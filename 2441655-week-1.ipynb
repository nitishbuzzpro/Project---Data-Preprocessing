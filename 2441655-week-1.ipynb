{
 "cells": [
  {
   "cell_type": "markdown",
   "metadata": {
    "_cell_guid": "b1076dfc-b9ad-4769-8c92-a6c4dae69d19",
    "_uuid": "8f2839f25d086af736a60e9eeb907d3b93b6e0e5"
   },
   "source": [
    "# Topic: Missing Values, Outliers, Categorical Data"
   ]
  },
  {
   "cell_type": "markdown",
   "metadata": {},
   "source": [
    "## Task 1"
   ]
  },
  {
   "cell_type": "code",
   "execution_count": 38,
   "metadata": {
    "execution": {
     "iopub.execute_input": "2024-07-20T11:40:56.123088Z",
     "iopub.status.busy": "2024-07-20T11:40:56.122591Z",
     "iopub.status.idle": "2024-07-20T11:40:56.129864Z",
     "shell.execute_reply": "2024-07-20T11:40:56.128587Z",
     "shell.execute_reply.started": "2024-07-20T11:40:56.123027Z"
    }
   },
   "outputs": [],
   "source": [
    "# Import Pandas and alias it as pd.\n",
    "# Import NumPy and alias it as np.\n",
    "\n",
    "import pandas as pd\n",
    "import numpy as np\n",
    "import warnings\n",
    "warnings.filterwarnings('ignore')\n",
    "from sklearn.preprocessing import LabelEncoder,MinMaxScaler,StandardScaler\n",
    "from scipy.stats import zscore\n",
    "import matplotlib.pyplot as plt\n",
    "import seaborn as sns"
   ]
  },
  {
   "cell_type": "code",
   "execution_count": 39,
   "metadata": {
    "execution": {
     "iopub.execute_input": "2024-07-20T11:40:56.139378Z",
     "iopub.status.busy": "2024-07-20T11:40:56.138924Z",
     "iopub.status.idle": "2024-07-20T11:40:56.545048Z",
     "shell.execute_reply": "2024-07-20T11:40:56.543954Z",
     "shell.execute_reply.started": "2024-07-20T11:40:56.139344Z"
    }
   },
   "outputs": [],
   "source": [
    "# Load the Titanic dataset:\n",
    "# Load the 'titanic.csv' file using the Pandas library and assign it to a variable named 'data'.\n",
    "\n",
    "data = pd.read_excel('/kaggle/input/train-16072024/train.xlsx')"
   ]
  },
  {
   "cell_type": "code",
   "execution_count": 40,
   "metadata": {
    "execution": {
     "iopub.execute_input": "2024-07-20T11:40:56.547574Z",
     "iopub.status.busy": "2024-07-20T11:40:56.547199Z",
     "iopub.status.idle": "2024-07-20T11:40:56.552163Z",
     "shell.execute_reply": "2024-07-20T11:40:56.551045Z",
     "shell.execute_reply.started": "2024-07-20T11:40:56.547542Z"
    }
   },
   "outputs": [],
   "source": [
    "# Explore the dataset:\n",
    "\n",
    "# Display the first 5 rows of the dataset.\n",
    "# Display the number of rows and columns in the dataset.\n",
    "# Display the summary statistics of the dataset."
   ]
  },
  {
   "cell_type": "code",
   "execution_count": 41,
   "metadata": {
    "execution": {
     "iopub.execute_input": "2024-07-20T11:40:56.554104Z",
     "iopub.status.busy": "2024-07-20T11:40:56.553665Z",
     "iopub.status.idle": "2024-07-20T11:40:56.578186Z",
     "shell.execute_reply": "2024-07-20T11:40:56.576755Z",
     "shell.execute_reply.started": "2024-07-20T11:40:56.554065Z"
    }
   },
   "outputs": [
    {
     "data": {
      "text/html": [
       "<div>\n",
       "<style scoped>\n",
       "    .dataframe tbody tr th:only-of-type {\n",
       "        vertical-align: middle;\n",
       "    }\n",
       "\n",
       "    .dataframe tbody tr th {\n",
       "        vertical-align: top;\n",
       "    }\n",
       "\n",
       "    .dataframe thead th {\n",
       "        text-align: right;\n",
       "    }\n",
       "</style>\n",
       "<table border=\"1\" class=\"dataframe\">\n",
       "  <thead>\n",
       "    <tr style=\"text-align: right;\">\n",
       "      <th></th>\n",
       "      <th>PassengerId</th>\n",
       "      <th>Survived</th>\n",
       "      <th>Pclass</th>\n",
       "      <th>Name</th>\n",
       "      <th>Sex</th>\n",
       "      <th>Age</th>\n",
       "      <th>SibSp</th>\n",
       "      <th>Parch</th>\n",
       "      <th>Ticket</th>\n",
       "      <th>Fare</th>\n",
       "      <th>Cabin</th>\n",
       "      <th>Embarked</th>\n",
       "    </tr>\n",
       "  </thead>\n",
       "  <tbody>\n",
       "    <tr>\n",
       "      <th>0</th>\n",
       "      <td>1</td>\n",
       "      <td>0</td>\n",
       "      <td>3</td>\n",
       "      <td>Braund, Mr. Owen Harris</td>\n",
       "      <td>male</td>\n",
       "      <td>22.0</td>\n",
       "      <td>1</td>\n",
       "      <td>0</td>\n",
       "      <td>A/5 21171</td>\n",
       "      <td>7.2500</td>\n",
       "      <td>NaN</td>\n",
       "      <td>S</td>\n",
       "    </tr>\n",
       "    <tr>\n",
       "      <th>1</th>\n",
       "      <td>2</td>\n",
       "      <td>1</td>\n",
       "      <td>1</td>\n",
       "      <td>Cumings, Mrs. John Bradley (Florence Briggs Th...</td>\n",
       "      <td>female</td>\n",
       "      <td>38.0</td>\n",
       "      <td>1</td>\n",
       "      <td>0</td>\n",
       "      <td>PC 17599</td>\n",
       "      <td>71.2833</td>\n",
       "      <td>C85</td>\n",
       "      <td>C</td>\n",
       "    </tr>\n",
       "    <tr>\n",
       "      <th>2</th>\n",
       "      <td>3</td>\n",
       "      <td>1</td>\n",
       "      <td>3</td>\n",
       "      <td>Heikkinen, Miss. Laina</td>\n",
       "      <td>female</td>\n",
       "      <td>26.0</td>\n",
       "      <td>0</td>\n",
       "      <td>0</td>\n",
       "      <td>STON/O2. 3101282</td>\n",
       "      <td>7.9250</td>\n",
       "      <td>NaN</td>\n",
       "      <td>S</td>\n",
       "    </tr>\n",
       "    <tr>\n",
       "      <th>3</th>\n",
       "      <td>4</td>\n",
       "      <td>1</td>\n",
       "      <td>1</td>\n",
       "      <td>Futrelle, Mrs. Jacques Heath (Lily May Peel)</td>\n",
       "      <td>female</td>\n",
       "      <td>35.0</td>\n",
       "      <td>1</td>\n",
       "      <td>0</td>\n",
       "      <td>113803</td>\n",
       "      <td>53.1000</td>\n",
       "      <td>C123</td>\n",
       "      <td>S</td>\n",
       "    </tr>\n",
       "    <tr>\n",
       "      <th>4</th>\n",
       "      <td>5</td>\n",
       "      <td>0</td>\n",
       "      <td>3</td>\n",
       "      <td>Allen, Mr. William Henry</td>\n",
       "      <td>male</td>\n",
       "      <td>35.0</td>\n",
       "      <td>0</td>\n",
       "      <td>0</td>\n",
       "      <td>373450</td>\n",
       "      <td>8.0500</td>\n",
       "      <td>NaN</td>\n",
       "      <td>S</td>\n",
       "    </tr>\n",
       "  </tbody>\n",
       "</table>\n",
       "</div>"
      ],
      "text/plain": [
       "   PassengerId  Survived  Pclass  \\\n",
       "0            1         0       3   \n",
       "1            2         1       1   \n",
       "2            3         1       3   \n",
       "3            4         1       1   \n",
       "4            5         0       3   \n",
       "\n",
       "                                                Name     Sex   Age  SibSp  \\\n",
       "0                            Braund, Mr. Owen Harris    male  22.0      1   \n",
       "1  Cumings, Mrs. John Bradley (Florence Briggs Th...  female  38.0      1   \n",
       "2                             Heikkinen, Miss. Laina  female  26.0      0   \n",
       "3       Futrelle, Mrs. Jacques Heath (Lily May Peel)  female  35.0      1   \n",
       "4                           Allen, Mr. William Henry    male  35.0      0   \n",
       "\n",
       "   Parch            Ticket     Fare Cabin Embarked  \n",
       "0      0         A/5 21171   7.2500   NaN        S  \n",
       "1      0          PC 17599  71.2833   C85        C  \n",
       "2      0  STON/O2. 3101282   7.9250   NaN        S  \n",
       "3      0            113803  53.1000  C123        S  \n",
       "4      0            373450   8.0500   NaN        S  "
      ]
     },
     "execution_count": 41,
     "metadata": {},
     "output_type": "execute_result"
    }
   ],
   "source": [
    "# Display the first 5 rows of the dataset.\n",
    "data.head()"
   ]
  },
  {
   "cell_type": "code",
   "execution_count": 42,
   "metadata": {
    "execution": {
     "iopub.execute_input": "2024-07-20T11:40:56.582074Z",
     "iopub.status.busy": "2024-07-20T11:40:56.581466Z",
     "iopub.status.idle": "2024-07-20T11:40:56.592954Z",
     "shell.execute_reply": "2024-07-20T11:40:56.591837Z",
     "shell.execute_reply.started": "2024-07-20T11:40:56.582030Z"
    }
   },
   "outputs": [
    {
     "data": {
      "text/plain": [
       "(891, 12)"
      ]
     },
     "execution_count": 42,
     "metadata": {},
     "output_type": "execute_result"
    }
   ],
   "source": [
    "# Display the number of rows and columns in the dataset.\n",
    "data.shape"
   ]
  },
  {
   "cell_type": "code",
   "execution_count": 43,
   "metadata": {
    "execution": {
     "iopub.execute_input": "2024-07-20T11:40:56.594888Z",
     "iopub.status.busy": "2024-07-20T11:40:56.594475Z",
     "iopub.status.idle": "2024-07-20T11:40:56.650130Z",
     "shell.execute_reply": "2024-07-20T11:40:56.648913Z",
     "shell.execute_reply.started": "2024-07-20T11:40:56.594849Z"
    }
   },
   "outputs": [
    {
     "data": {
      "text/html": [
       "<div>\n",
       "<style scoped>\n",
       "    .dataframe tbody tr th:only-of-type {\n",
       "        vertical-align: middle;\n",
       "    }\n",
       "\n",
       "    .dataframe tbody tr th {\n",
       "        vertical-align: top;\n",
       "    }\n",
       "\n",
       "    .dataframe thead th {\n",
       "        text-align: right;\n",
       "    }\n",
       "</style>\n",
       "<table border=\"1\" class=\"dataframe\">\n",
       "  <thead>\n",
       "    <tr style=\"text-align: right;\">\n",
       "      <th></th>\n",
       "      <th>PassengerId</th>\n",
       "      <th>Survived</th>\n",
       "      <th>Pclass</th>\n",
       "      <th>Name</th>\n",
       "      <th>Sex</th>\n",
       "      <th>Age</th>\n",
       "      <th>SibSp</th>\n",
       "      <th>Parch</th>\n",
       "      <th>Ticket</th>\n",
       "      <th>Fare</th>\n",
       "      <th>Cabin</th>\n",
       "      <th>Embarked</th>\n",
       "    </tr>\n",
       "  </thead>\n",
       "  <tbody>\n",
       "    <tr>\n",
       "      <th>count</th>\n",
       "      <td>891.000000</td>\n",
       "      <td>891.000000</td>\n",
       "      <td>891.000000</td>\n",
       "      <td>891</td>\n",
       "      <td>891</td>\n",
       "      <td>714.000000</td>\n",
       "      <td>891.000000</td>\n",
       "      <td>891.000000</td>\n",
       "      <td>891.0</td>\n",
       "      <td>891.000000</td>\n",
       "      <td>204</td>\n",
       "      <td>889</td>\n",
       "    </tr>\n",
       "    <tr>\n",
       "      <th>unique</th>\n",
       "      <td>NaN</td>\n",
       "      <td>NaN</td>\n",
       "      <td>NaN</td>\n",
       "      <td>891</td>\n",
       "      <td>2</td>\n",
       "      <td>NaN</td>\n",
       "      <td>NaN</td>\n",
       "      <td>NaN</td>\n",
       "      <td>681.0</td>\n",
       "      <td>NaN</td>\n",
       "      <td>147</td>\n",
       "      <td>3</td>\n",
       "    </tr>\n",
       "    <tr>\n",
       "      <th>top</th>\n",
       "      <td>NaN</td>\n",
       "      <td>NaN</td>\n",
       "      <td>NaN</td>\n",
       "      <td>Braund, Mr. Owen Harris</td>\n",
       "      <td>male</td>\n",
       "      <td>NaN</td>\n",
       "      <td>NaN</td>\n",
       "      <td>NaN</td>\n",
       "      <td>347082.0</td>\n",
       "      <td>NaN</td>\n",
       "      <td>B96 B98</td>\n",
       "      <td>S</td>\n",
       "    </tr>\n",
       "    <tr>\n",
       "      <th>freq</th>\n",
       "      <td>NaN</td>\n",
       "      <td>NaN</td>\n",
       "      <td>NaN</td>\n",
       "      <td>1</td>\n",
       "      <td>577</td>\n",
       "      <td>NaN</td>\n",
       "      <td>NaN</td>\n",
       "      <td>NaN</td>\n",
       "      <td>7.0</td>\n",
       "      <td>NaN</td>\n",
       "      <td>4</td>\n",
       "      <td>644</td>\n",
       "    </tr>\n",
       "    <tr>\n",
       "      <th>mean</th>\n",
       "      <td>446.000000</td>\n",
       "      <td>0.383838</td>\n",
       "      <td>2.308642</td>\n",
       "      <td>NaN</td>\n",
       "      <td>NaN</td>\n",
       "      <td>29.699118</td>\n",
       "      <td>0.523008</td>\n",
       "      <td>0.381594</td>\n",
       "      <td>NaN</td>\n",
       "      <td>32.204208</td>\n",
       "      <td>NaN</td>\n",
       "      <td>NaN</td>\n",
       "    </tr>\n",
       "    <tr>\n",
       "      <th>std</th>\n",
       "      <td>257.353842</td>\n",
       "      <td>0.486592</td>\n",
       "      <td>0.836071</td>\n",
       "      <td>NaN</td>\n",
       "      <td>NaN</td>\n",
       "      <td>14.526497</td>\n",
       "      <td>1.102743</td>\n",
       "      <td>0.806057</td>\n",
       "      <td>NaN</td>\n",
       "      <td>49.693429</td>\n",
       "      <td>NaN</td>\n",
       "      <td>NaN</td>\n",
       "    </tr>\n",
       "    <tr>\n",
       "      <th>min</th>\n",
       "      <td>1.000000</td>\n",
       "      <td>0.000000</td>\n",
       "      <td>1.000000</td>\n",
       "      <td>NaN</td>\n",
       "      <td>NaN</td>\n",
       "      <td>0.420000</td>\n",
       "      <td>0.000000</td>\n",
       "      <td>0.000000</td>\n",
       "      <td>NaN</td>\n",
       "      <td>0.000000</td>\n",
       "      <td>NaN</td>\n",
       "      <td>NaN</td>\n",
       "    </tr>\n",
       "    <tr>\n",
       "      <th>25%</th>\n",
       "      <td>223.500000</td>\n",
       "      <td>0.000000</td>\n",
       "      <td>2.000000</td>\n",
       "      <td>NaN</td>\n",
       "      <td>NaN</td>\n",
       "      <td>20.125000</td>\n",
       "      <td>0.000000</td>\n",
       "      <td>0.000000</td>\n",
       "      <td>NaN</td>\n",
       "      <td>7.910400</td>\n",
       "      <td>NaN</td>\n",
       "      <td>NaN</td>\n",
       "    </tr>\n",
       "    <tr>\n",
       "      <th>50%</th>\n",
       "      <td>446.000000</td>\n",
       "      <td>0.000000</td>\n",
       "      <td>3.000000</td>\n",
       "      <td>NaN</td>\n",
       "      <td>NaN</td>\n",
       "      <td>28.000000</td>\n",
       "      <td>0.000000</td>\n",
       "      <td>0.000000</td>\n",
       "      <td>NaN</td>\n",
       "      <td>14.454200</td>\n",
       "      <td>NaN</td>\n",
       "      <td>NaN</td>\n",
       "    </tr>\n",
       "    <tr>\n",
       "      <th>75%</th>\n",
       "      <td>668.500000</td>\n",
       "      <td>1.000000</td>\n",
       "      <td>3.000000</td>\n",
       "      <td>NaN</td>\n",
       "      <td>NaN</td>\n",
       "      <td>38.000000</td>\n",
       "      <td>1.000000</td>\n",
       "      <td>0.000000</td>\n",
       "      <td>NaN</td>\n",
       "      <td>31.000000</td>\n",
       "      <td>NaN</td>\n",
       "      <td>NaN</td>\n",
       "    </tr>\n",
       "    <tr>\n",
       "      <th>max</th>\n",
       "      <td>891.000000</td>\n",
       "      <td>1.000000</td>\n",
       "      <td>3.000000</td>\n",
       "      <td>NaN</td>\n",
       "      <td>NaN</td>\n",
       "      <td>80.000000</td>\n",
       "      <td>8.000000</td>\n",
       "      <td>6.000000</td>\n",
       "      <td>NaN</td>\n",
       "      <td>512.329200</td>\n",
       "      <td>NaN</td>\n",
       "      <td>NaN</td>\n",
       "    </tr>\n",
       "  </tbody>\n",
       "</table>\n",
       "</div>"
      ],
      "text/plain": [
       "        PassengerId    Survived      Pclass                     Name   Sex  \\\n",
       "count    891.000000  891.000000  891.000000                      891   891   \n",
       "unique          NaN         NaN         NaN                      891     2   \n",
       "top             NaN         NaN         NaN  Braund, Mr. Owen Harris  male   \n",
       "freq            NaN         NaN         NaN                        1   577   \n",
       "mean     446.000000    0.383838    2.308642                      NaN   NaN   \n",
       "std      257.353842    0.486592    0.836071                      NaN   NaN   \n",
       "min        1.000000    0.000000    1.000000                      NaN   NaN   \n",
       "25%      223.500000    0.000000    2.000000                      NaN   NaN   \n",
       "50%      446.000000    0.000000    3.000000                      NaN   NaN   \n",
       "75%      668.500000    1.000000    3.000000                      NaN   NaN   \n",
       "max      891.000000    1.000000    3.000000                      NaN   NaN   \n",
       "\n",
       "               Age       SibSp       Parch    Ticket        Fare    Cabin  \\\n",
       "count   714.000000  891.000000  891.000000     891.0  891.000000      204   \n",
       "unique         NaN         NaN         NaN     681.0         NaN      147   \n",
       "top            NaN         NaN         NaN  347082.0         NaN  B96 B98   \n",
       "freq           NaN         NaN         NaN       7.0         NaN        4   \n",
       "mean     29.699118    0.523008    0.381594       NaN   32.204208      NaN   \n",
       "std      14.526497    1.102743    0.806057       NaN   49.693429      NaN   \n",
       "min       0.420000    0.000000    0.000000       NaN    0.000000      NaN   \n",
       "25%      20.125000    0.000000    0.000000       NaN    7.910400      NaN   \n",
       "50%      28.000000    0.000000    0.000000       NaN   14.454200      NaN   \n",
       "75%      38.000000    1.000000    0.000000       NaN   31.000000      NaN   \n",
       "max      80.000000    8.000000    6.000000       NaN  512.329200      NaN   \n",
       "\n",
       "       Embarked  \n",
       "count       889  \n",
       "unique        3  \n",
       "top           S  \n",
       "freq        644  \n",
       "mean        NaN  \n",
       "std         NaN  \n",
       "min         NaN  \n",
       "25%         NaN  \n",
       "50%         NaN  \n",
       "75%         NaN  \n",
       "max         NaN  "
      ]
     },
     "execution_count": 43,
     "metadata": {},
     "output_type": "execute_result"
    }
   ],
   "source": [
    "# Display the summary statistics of the dataset.\n",
    "data.describe(include='all')"
   ]
  },
  {
   "cell_type": "code",
   "execution_count": 44,
   "metadata": {
    "execution": {
     "iopub.execute_input": "2024-07-20T11:40:56.651821Z",
     "iopub.status.busy": "2024-07-20T11:40:56.651455Z",
     "iopub.status.idle": "2024-07-20T11:40:56.657189Z",
     "shell.execute_reply": "2024-07-20T11:40:56.655713Z",
     "shell.execute_reply.started": "2024-07-20T11:40:56.651789Z"
    }
   },
   "outputs": [],
   "source": [
    "# Handle missing values:\n",
    "\n",
    "# Identify the columns with missing values.\n",
    "# Impute missing values in the 'Age' column with the mean age of passengers.\n",
    "# Impute missing values in the 'Embarked' column with the most frequent value.\n",
    "# Drop the 'Cabin' column from the dataset"
   ]
  },
  {
   "cell_type": "code",
   "execution_count": 45,
   "metadata": {
    "execution": {
     "iopub.execute_input": "2024-07-20T11:40:56.659505Z",
     "iopub.status.busy": "2024-07-20T11:40:56.659118Z",
     "iopub.status.idle": "2024-07-20T11:40:56.673105Z",
     "shell.execute_reply": "2024-07-20T11:40:56.671836Z",
     "shell.execute_reply.started": "2024-07-20T11:40:56.659472Z"
    }
   },
   "outputs": [
    {
     "name": "stdout",
     "output_type": "stream",
     "text": [
      "'Age' column has 177 missing values\n",
      "'Cabin' column has 687 missing values\n",
      "'Embarked' column has 2 missing values\n"
     ]
    }
   ],
   "source": [
    "# Identify the columns with missing values.\n",
    "for col in data.columns:\n",
    "    if data[col].isnull().sum() > 0:\n",
    "        print(f\"'{col}' column has {data[col].isnull().sum()} missing values\")"
   ]
  },
  {
   "cell_type": "code",
   "execution_count": 46,
   "metadata": {
    "execution": {
     "iopub.execute_input": "2024-07-20T11:40:56.675066Z",
     "iopub.status.busy": "2024-07-20T11:40:56.674602Z",
     "iopub.status.idle": "2024-07-20T11:40:56.689682Z",
     "shell.execute_reply": "2024-07-20T11:40:56.688509Z",
     "shell.execute_reply.started": "2024-07-20T11:40:56.675025Z"
    }
   },
   "outputs": [
    {
     "name": "stdout",
     "output_type": "stream",
     "text": [
      "After Imputing missing values in the 'Age' column with the mean age of passengers, 'Age' column has 0 missing values\n",
      "After Imputing missing values in the 'Embarked' column with the most frequent value, 'Embarked' column has 0 missing values\n"
     ]
    }
   ],
   "source": [
    "# Impute missing values in the 'Age' column with the mean age of passengers.\n",
    "# Impute missing values in the 'Embarked' column with the most frequent value.\n",
    "data['Age'].fillna(data['Age'].mean(),inplace=True)\n",
    "print(f\"After Imputing missing values in the 'Age' column with the mean age of passengers, 'Age' column has {data['Age'].isnull().sum()} missing values\")\n",
    "data['Embarked'].fillna(data['Embarked'].mode()[0],inplace=True)\n",
    "print(f\"After Imputing missing values in the 'Embarked' column with the most frequent value, 'Embarked' column has {data['Embarked'].isnull().sum()} missing values\")"
   ]
  },
  {
   "cell_type": "code",
   "execution_count": 47,
   "metadata": {
    "execution": {
     "iopub.execute_input": "2024-07-20T11:40:56.691689Z",
     "iopub.status.busy": "2024-07-20T11:40:56.691257Z",
     "iopub.status.idle": "2024-07-20T11:40:56.701874Z",
     "shell.execute_reply": "2024-07-20T11:40:56.700416Z",
     "shell.execute_reply.started": "2024-07-20T11:40:56.691652Z"
    }
   },
   "outputs": [
    {
     "name": "stdout",
     "output_type": "stream",
     "text": [
      "Dropping the 'Cabin' column from the dataset is successful\n"
     ]
    }
   ],
   "source": [
    "# Drop the 'Cabin' column from the dataset\n",
    "data.drop(columns=['Cabin'],inplace=True)\n",
    "if 'Cabin' not in data.columns:\n",
    "    print(\"Dropping the 'Cabin' column from the dataset is successful\")\n",
    "else:\n",
    "    print(\"'Cabin' column is still present in the dataset\")"
   ]
  },
  {
   "cell_type": "markdown",
   "metadata": {},
   "source": [
    "## Tasks 2"
   ]
  },
  {
   "cell_type": "code",
   "execution_count": 48,
   "metadata": {
    "execution": {
     "iopub.execute_input": "2024-07-20T11:40:56.706974Z",
     "iopub.status.busy": "2024-07-20T11:40:56.706389Z",
     "iopub.status.idle": "2024-07-20T11:40:56.716345Z",
     "shell.execute_reply": "2024-07-20T11:40:56.715143Z",
     "shell.execute_reply.started": "2024-07-20T11:40:56.706933Z"
    }
   },
   "outputs": [],
   "source": [
    "# Handle categorical variables:\n",
    "# Convert the 'Sex' column to numerical values,where 0 represents female and 1 represents male.\n",
    "# Create dummy variables for the 'Embarked'column.\n",
    "\n",
    "# Handle outliers:\n",
    "# Identify the columns that may have outliers.\n",
    "# Use appropriate techniques (e.g., Z-score, IQR) to identify and handle outliers in the dataset.\n",
    "\n",
    "# Data validation:\n",
    "# Check for duplicate rows in the dataset.\n",
    "# Remove any duplicate rows, if present.\n",
    "\n",
    "# Data transformation:\n",
    "# Create a new column called 'FamilySize' by\n",
    "# summing the 'SibSp' and 'Parch' columns.\n",
    "# Create a new column called 'Title' by extracting the\n",
    "# titles from the 'Name' column.\n",
    "\n",
    "# Data normalization:\n",
    "# Normalize Data using appropriate scaling techniques (e.g., Min-Max scaling, Standardization).\n",
    "# Explain the Major Differences between Standardization and Normalization, and When to \n",
    "# use these Methods in real-world scenario based\n",
    "# problems."
   ]
  },
  {
   "cell_type": "code",
   "execution_count": 49,
   "metadata": {
    "execution": {
     "iopub.execute_input": "2024-07-20T11:40:56.718277Z",
     "iopub.status.busy": "2024-07-20T11:40:56.717837Z",
     "iopub.status.idle": "2024-07-20T11:40:56.737607Z",
     "shell.execute_reply": "2024-07-20T11:40:56.736293Z",
     "shell.execute_reply.started": "2024-07-20T11:40:56.718245Z"
    },
    "jupyter": {
     "source_hidden": true
    }
   },
   "outputs": [
    {
     "name": "stdout",
     "output_type": "stream",
     "text": [
      "label mapping of Sex column: {'female': 0, 'male': 1}\n",
      "label mapping of Embarked column: {'C': 0, 'Q': 1, 'S': 2}\n",
      "saved encoders: {'Sex': LabelEncoder(), 'Embarked': LabelEncoder()}\n"
     ]
    }
   ],
   "source": [
    "# Handle categorical variables:\n",
    "# Convert the 'Sex' column to numerical values,where 0 represents female and 1 represents male.\n",
    "# Create dummy variables for the 'Embarked'column.\n",
    "\n",
    "def label_ecoder(col):\n",
    "    encoder = LabelEncoder()\n",
    "    encoded_column = encoder.fit_transform(col)\n",
    "\n",
    "    label_mapping = {label:index for index,label in enumerate(encoder.classes_)}\n",
    "    \n",
    "    print(f'label mapping of {col.name} column: {label_mapping}')\n",
    "    \n",
    "    return encoded_column,encoder\n",
    "\n",
    "\n",
    "saved_encoders = {}\n",
    "\n",
    "for col in ['Sex','Embarked']:\n",
    "    encoded_column, encoder = label_ecoder(data[col])\n",
    "    data[col] = encoded_column\n",
    "    saved_encoders[col]=encoder\n",
    "print(f'saved encoders: {saved_encoders}')"
   ]
  },
  {
   "cell_type": "code",
   "execution_count": 50,
   "metadata": {
    "execution": {
     "iopub.execute_input": "2024-07-20T11:40:56.739599Z",
     "iopub.status.busy": "2024-07-20T11:40:56.739056Z",
     "iopub.status.idle": "2024-07-20T11:40:56.761299Z",
     "shell.execute_reply": "2024-07-20T11:40:56.760230Z",
     "shell.execute_reply.started": "2024-07-20T11:40:56.739559Z"
    }
   },
   "outputs": [
    {
     "data": {
      "text/html": [
       "<div>\n",
       "<style scoped>\n",
       "    .dataframe tbody tr th:only-of-type {\n",
       "        vertical-align: middle;\n",
       "    }\n",
       "\n",
       "    .dataframe tbody tr th {\n",
       "        vertical-align: top;\n",
       "    }\n",
       "\n",
       "    .dataframe thead th {\n",
       "        text-align: right;\n",
       "    }\n",
       "</style>\n",
       "<table border=\"1\" class=\"dataframe\">\n",
       "  <thead>\n",
       "    <tr style=\"text-align: right;\">\n",
       "      <th></th>\n",
       "      <th>PassengerId</th>\n",
       "      <th>Survived</th>\n",
       "      <th>Pclass</th>\n",
       "      <th>Name</th>\n",
       "      <th>Sex</th>\n",
       "      <th>Age</th>\n",
       "      <th>SibSp</th>\n",
       "      <th>Parch</th>\n",
       "      <th>Ticket</th>\n",
       "      <th>Fare</th>\n",
       "      <th>Embarked</th>\n",
       "    </tr>\n",
       "  </thead>\n",
       "  <tbody>\n",
       "    <tr>\n",
       "      <th>0</th>\n",
       "      <td>1</td>\n",
       "      <td>0</td>\n",
       "      <td>3</td>\n",
       "      <td>Braund, Mr. Owen Harris</td>\n",
       "      <td>1</td>\n",
       "      <td>22.0</td>\n",
       "      <td>1</td>\n",
       "      <td>0</td>\n",
       "      <td>A/5 21171</td>\n",
       "      <td>7.2500</td>\n",
       "      <td>2</td>\n",
       "    </tr>\n",
       "    <tr>\n",
       "      <th>1</th>\n",
       "      <td>2</td>\n",
       "      <td>1</td>\n",
       "      <td>1</td>\n",
       "      <td>Cumings, Mrs. John Bradley (Florence Briggs Th...</td>\n",
       "      <td>0</td>\n",
       "      <td>38.0</td>\n",
       "      <td>1</td>\n",
       "      <td>0</td>\n",
       "      <td>PC 17599</td>\n",
       "      <td>71.2833</td>\n",
       "      <td>0</td>\n",
       "    </tr>\n",
       "    <tr>\n",
       "      <th>2</th>\n",
       "      <td>3</td>\n",
       "      <td>1</td>\n",
       "      <td>3</td>\n",
       "      <td>Heikkinen, Miss. Laina</td>\n",
       "      <td>0</td>\n",
       "      <td>26.0</td>\n",
       "      <td>0</td>\n",
       "      <td>0</td>\n",
       "      <td>STON/O2. 3101282</td>\n",
       "      <td>7.9250</td>\n",
       "      <td>2</td>\n",
       "    </tr>\n",
       "    <tr>\n",
       "      <th>3</th>\n",
       "      <td>4</td>\n",
       "      <td>1</td>\n",
       "      <td>1</td>\n",
       "      <td>Futrelle, Mrs. Jacques Heath (Lily May Peel)</td>\n",
       "      <td>0</td>\n",
       "      <td>35.0</td>\n",
       "      <td>1</td>\n",
       "      <td>0</td>\n",
       "      <td>113803</td>\n",
       "      <td>53.1000</td>\n",
       "      <td>2</td>\n",
       "    </tr>\n",
       "    <tr>\n",
       "      <th>4</th>\n",
       "      <td>5</td>\n",
       "      <td>0</td>\n",
       "      <td>3</td>\n",
       "      <td>Allen, Mr. William Henry</td>\n",
       "      <td>1</td>\n",
       "      <td>35.0</td>\n",
       "      <td>0</td>\n",
       "      <td>0</td>\n",
       "      <td>373450</td>\n",
       "      <td>8.0500</td>\n",
       "      <td>2</td>\n",
       "    </tr>\n",
       "  </tbody>\n",
       "</table>\n",
       "</div>"
      ],
      "text/plain": [
       "   PassengerId  Survived  Pclass  \\\n",
       "0            1         0       3   \n",
       "1            2         1       1   \n",
       "2            3         1       3   \n",
       "3            4         1       1   \n",
       "4            5         0       3   \n",
       "\n",
       "                                                Name  Sex   Age  SibSp  Parch  \\\n",
       "0                            Braund, Mr. Owen Harris    1  22.0      1      0   \n",
       "1  Cumings, Mrs. John Bradley (Florence Briggs Th...    0  38.0      1      0   \n",
       "2                             Heikkinen, Miss. Laina    0  26.0      0      0   \n",
       "3       Futrelle, Mrs. Jacques Heath (Lily May Peel)    0  35.0      1      0   \n",
       "4                           Allen, Mr. William Henry    1  35.0      0      0   \n",
       "\n",
       "             Ticket     Fare  Embarked  \n",
       "0         A/5 21171   7.2500         2  \n",
       "1          PC 17599  71.2833         0  \n",
       "2  STON/O2. 3101282   7.9250         2  \n",
       "3            113803  53.1000         2  \n",
       "4            373450   8.0500         2  "
      ]
     },
     "execution_count": 50,
     "metadata": {},
     "output_type": "execute_result"
    }
   ],
   "source": [
    "data.head()"
   ]
  },
  {
   "cell_type": "code",
   "execution_count": 51,
   "metadata": {
    "execution": {
     "iopub.execute_input": "2024-07-20T11:40:56.762837Z",
     "iopub.status.busy": "2024-07-20T11:40:56.762509Z",
     "iopub.status.idle": "2024-07-20T11:40:56.969920Z",
     "shell.execute_reply": "2024-07-20T11:40:56.968717Z",
     "shell.execute_reply.started": "2024-07-20T11:40:56.762810Z"
    }
   },
   "outputs": [
    {
     "data": {
      "image/png": "[encoded data removed]",
      "text/plain": [
       "<Figure size 600x600 with 1 Axes>"
      ]
     },
     "metadata": {},
     "output_type": "display_data"
    }
   ],
   "source": [
    "# Handle outliers:\n",
    "# Identify the columns that may have outliers.\n",
    "# Use appropriate techniques (e.g., Z-score, IQR) to identify and handle outliers in the dataset.\n",
    "plt.figure(figsize=(6, 6))\n",
    "sns.boxplot(data[['Age','Fare']])\n",
    "plt.title('Boxplot of Age and Fare')\n",
    "plt.show()"
   ]
  },
  {
   "cell_type": "code",
   "execution_count": 52,
   "metadata": {
    "execution": {
     "iopub.execute_input": "2024-07-20T11:40:56.971519Z",
     "iopub.status.busy": "2024-07-20T11:40:56.971175Z",
     "iopub.status.idle": "2024-07-20T11:40:57.396820Z",
     "shell.execute_reply": "2024-07-20T11:40:57.395565Z",
     "shell.execute_reply.started": "2024-07-20T11:40:56.971491Z"
    }
   },
   "outputs": [
    {
     "data": {
      "text/plain": [
       "<matplotlib.legend.Legend at 0x7d6f19e55b70>"
      ]
     },
     "execution_count": 52,
     "metadata": {},
     "output_type": "execute_result"
    },
    {
     "data": {
      "image/png": "[encoded data removed]",
      "text/plain": [
       "<Figure size 600x600 with 1 Axes>"
      ]
     },
     "metadata": {},
     "output_type": "display_data"
    }
   ],
   "source": [
    "plt.figure(figsize=(6, 6))\n",
    "sns.kdeplot(data['Age'], shade=True, label='Age', color='blue')\n",
    "sns.kdeplot(data['Fare'], shade=True, label='Fare', color='orange')\n",
    "plt.xlabel('Value')\n",
    "plt.ylabel('Density')\n",
    "plt.legend()"
   ]
  },
  {
   "cell_type": "code",
   "execution_count": 53,
   "metadata": {
    "execution": {
     "iopub.execute_input": "2024-07-20T11:40:57.398560Z",
     "iopub.status.busy": "2024-07-20T11:40:57.398213Z",
     "iopub.status.idle": "2024-07-20T11:40:57.421521Z",
     "shell.execute_reply": "2024-07-20T11:40:57.420150Z",
     "shell.execute_reply.started": "2024-07-20T11:40:57.398531Z"
    }
   },
   "outputs": [
    {
     "name": "stdout",
     "output_type": "stream",
     "text": [
      "there are 7 outliers out of 891 in 'Age' columns using Z-score method\n",
      "there are 20 outliers out of 891 in 'Fare' columns using Z-score method\n",
      "\n",
      "\n",
      "there are 66 outliers out of 891 in 'Age' columns using Z-score method\n",
      "there are 116 outliers out of 891 in 'Fare' columns using Z-score method\n"
     ]
    }
   ],
   "source": [
    "numerical_col = ['Age','Fare']\n",
    "for col in numerical_col:\n",
    "    outlier_count = ((zscore(data[col])>3) | (zscore(data[col])<-3)).sum()\n",
    "    print(f\"there are {outlier_count} outliers out of {data[col].count()} in '{col}' columns using Z-score method\")\n",
    "\n",
    "print('\\n')\n",
    "    \n",
    "for col in numerical_col:\n",
    "    first_quartile = data[col].quantile(0.25)\n",
    "    third_quartile = data[col].quantile(0.75)\n",
    "    iqr = third_quartile - first_quartile\n",
    "    outlier_count = ((data[col]<first_quartile-1.5*iqr) | (data[col]>third_quartile+1.5*iqr)).sum()\n",
    "    print(f\"there are {outlier_count} outliers out of {data[col].count()} in '{col}' columns using Z-score method\")"
   ]
  },
  {
   "cell_type": "code",
   "execution_count": 54,
   "metadata": {
    "execution": {
     "iopub.execute_input": "2024-07-20T11:40:57.423366Z",
     "iopub.status.busy": "2024-07-20T11:40:57.423020Z",
     "iopub.status.idle": "2024-07-20T11:40:57.451663Z",
     "shell.execute_reply": "2024-07-20T11:40:57.450431Z",
     "shell.execute_reply.started": "2024-07-20T11:40:57.423336Z"
    }
   },
   "outputs": [
    {
     "data": {
      "text/html": [
       "<div>\n",
       "<style scoped>\n",
       "    .dataframe tbody tr th:only-of-type {\n",
       "        vertical-align: middle;\n",
       "    }\n",
       "\n",
       "    .dataframe tbody tr th {\n",
       "        vertical-align: top;\n",
       "    }\n",
       "\n",
       "    .dataframe thead th {\n",
       "        text-align: right;\n",
       "    }\n",
       "</style>\n",
       "<table border=\"1\" class=\"dataframe\">\n",
       "  <thead>\n",
       "    <tr style=\"text-align: right;\">\n",
       "      <th></th>\n",
       "      <th>PassengerId</th>\n",
       "      <th>Survived</th>\n",
       "      <th>Pclass</th>\n",
       "      <th>Name</th>\n",
       "      <th>Sex</th>\n",
       "      <th>Age</th>\n",
       "      <th>SibSp</th>\n",
       "      <th>Parch</th>\n",
       "      <th>Ticket</th>\n",
       "      <th>Fare</th>\n",
       "      <th>Embarked</th>\n",
       "    </tr>\n",
       "  </thead>\n",
       "  <tbody>\n",
       "    <tr>\n",
       "      <th>0</th>\n",
       "      <td>1</td>\n",
       "      <td>0</td>\n",
       "      <td>3</td>\n",
       "      <td>Braund, Mr. Owen Harris</td>\n",
       "      <td>1</td>\n",
       "      <td>22.000000</td>\n",
       "      <td>1</td>\n",
       "      <td>0</td>\n",
       "      <td>A/5 21171</td>\n",
       "      <td>7.2500</td>\n",
       "      <td>2</td>\n",
       "    </tr>\n",
       "    <tr>\n",
       "      <th>1</th>\n",
       "      <td>3</td>\n",
       "      <td>1</td>\n",
       "      <td>3</td>\n",
       "      <td>Heikkinen, Miss. Laina</td>\n",
       "      <td>0</td>\n",
       "      <td>26.000000</td>\n",
       "      <td>0</td>\n",
       "      <td>0</td>\n",
       "      <td>STON/O2. 3101282</td>\n",
       "      <td>7.9250</td>\n",
       "      <td>2</td>\n",
       "    </tr>\n",
       "    <tr>\n",
       "      <th>2</th>\n",
       "      <td>4</td>\n",
       "      <td>1</td>\n",
       "      <td>1</td>\n",
       "      <td>Futrelle, Mrs. Jacques Heath (Lily May Peel)</td>\n",
       "      <td>0</td>\n",
       "      <td>35.000000</td>\n",
       "      <td>1</td>\n",
       "      <td>0</td>\n",
       "      <td>113803</td>\n",
       "      <td>53.1000</td>\n",
       "      <td>2</td>\n",
       "    </tr>\n",
       "    <tr>\n",
       "      <th>3</th>\n",
       "      <td>5</td>\n",
       "      <td>0</td>\n",
       "      <td>3</td>\n",
       "      <td>Allen, Mr. William Henry</td>\n",
       "      <td>1</td>\n",
       "      <td>35.000000</td>\n",
       "      <td>0</td>\n",
       "      <td>0</td>\n",
       "      <td>373450</td>\n",
       "      <td>8.0500</td>\n",
       "      <td>2</td>\n",
       "    </tr>\n",
       "    <tr>\n",
       "      <th>4</th>\n",
       "      <td>6</td>\n",
       "      <td>0</td>\n",
       "      <td>3</td>\n",
       "      <td>Moran, Mr. James</td>\n",
       "      <td>1</td>\n",
       "      <td>29.699118</td>\n",
       "      <td>0</td>\n",
       "      <td>0</td>\n",
       "      <td>330877</td>\n",
       "      <td>8.4583</td>\n",
       "      <td>1</td>\n",
       "    </tr>\n",
       "    <tr>\n",
       "      <th>...</th>\n",
       "      <td>...</td>\n",
       "      <td>...</td>\n",
       "      <td>...</td>\n",
       "      <td>...</td>\n",
       "      <td>...</td>\n",
       "      <td>...</td>\n",
       "      <td>...</td>\n",
       "      <td>...</td>\n",
       "      <td>...</td>\n",
       "      <td>...</td>\n",
       "      <td>...</td>\n",
       "    </tr>\n",
       "    <tr>\n",
       "      <th>764</th>\n",
       "      <td>887</td>\n",
       "      <td>0</td>\n",
       "      <td>2</td>\n",
       "      <td>Montvila, Rev. Juozas</td>\n",
       "      <td>1</td>\n",
       "      <td>27.000000</td>\n",
       "      <td>0</td>\n",
       "      <td>0</td>\n",
       "      <td>211536</td>\n",
       "      <td>13.0000</td>\n",
       "      <td>2</td>\n",
       "    </tr>\n",
       "    <tr>\n",
       "      <th>765</th>\n",
       "      <td>888</td>\n",
       "      <td>1</td>\n",
       "      <td>1</td>\n",
       "      <td>Graham, Miss. Margaret Edith</td>\n",
       "      <td>0</td>\n",
       "      <td>19.000000</td>\n",
       "      <td>0</td>\n",
       "      <td>0</td>\n",
       "      <td>112053</td>\n",
       "      <td>30.0000</td>\n",
       "      <td>2</td>\n",
       "    </tr>\n",
       "    <tr>\n",
       "      <th>766</th>\n",
       "      <td>889</td>\n",
       "      <td>0</td>\n",
       "      <td>3</td>\n",
       "      <td>Johnston, Miss. Catherine Helen \"Carrie\"</td>\n",
       "      <td>0</td>\n",
       "      <td>29.699118</td>\n",
       "      <td>1</td>\n",
       "      <td>2</td>\n",
       "      <td>W./C. 6607</td>\n",
       "      <td>23.4500</td>\n",
       "      <td>2</td>\n",
       "    </tr>\n",
       "    <tr>\n",
       "      <th>767</th>\n",
       "      <td>890</td>\n",
       "      <td>1</td>\n",
       "      <td>1</td>\n",
       "      <td>Behr, Mr. Karl Howell</td>\n",
       "      <td>1</td>\n",
       "      <td>26.000000</td>\n",
       "      <td>0</td>\n",
       "      <td>0</td>\n",
       "      <td>111369</td>\n",
       "      <td>30.0000</td>\n",
       "      <td>0</td>\n",
       "    </tr>\n",
       "    <tr>\n",
       "      <th>768</th>\n",
       "      <td>891</td>\n",
       "      <td>0</td>\n",
       "      <td>3</td>\n",
       "      <td>Dooley, Mr. Patrick</td>\n",
       "      <td>1</td>\n",
       "      <td>32.000000</td>\n",
       "      <td>0</td>\n",
       "      <td>0</td>\n",
       "      <td>370376</td>\n",
       "      <td>7.7500</td>\n",
       "      <td>1</td>\n",
       "    </tr>\n",
       "  </tbody>\n",
       "</table>\n",
       "<p>769 rows × 11 columns</p>\n",
       "</div>"
      ],
      "text/plain": [
       "     PassengerId  Survived  Pclass  \\\n",
       "0              1         0       3   \n",
       "1              3         1       3   \n",
       "2              4         1       1   \n",
       "3              5         0       3   \n",
       "4              6         0       3   \n",
       "..           ...       ...     ...   \n",
       "764          887         0       2   \n",
       "765          888         1       1   \n",
       "766          889         0       3   \n",
       "767          890         1       1   \n",
       "768          891         0       3   \n",
       "\n",
       "                                             Name  Sex        Age  SibSp  \\\n",
       "0                         Braund, Mr. Owen Harris    1  22.000000      1   \n",
       "1                          Heikkinen, Miss. Laina    0  26.000000      0   \n",
       "2    Futrelle, Mrs. Jacques Heath (Lily May Peel)    0  35.000000      1   \n",
       "3                        Allen, Mr. William Henry    1  35.000000      0   \n",
       "4                                Moran, Mr. James    1  29.699118      0   \n",
       "..                                            ...  ...        ...    ...   \n",
       "764                         Montvila, Rev. Juozas    1  27.000000      0   \n",
       "765                  Graham, Miss. Margaret Edith    0  19.000000      0   \n",
       "766      Johnston, Miss. Catherine Helen \"Carrie\"    0  29.699118      1   \n",
       "767                         Behr, Mr. Karl Howell    1  26.000000      0   \n",
       "768                           Dooley, Mr. Patrick    1  32.000000      0   \n",
       "\n",
       "     Parch            Ticket     Fare  Embarked  \n",
       "0        0         A/5 21171   7.2500         2  \n",
       "1        0  STON/O2. 3101282   7.9250         2  \n",
       "2        0            113803  53.1000         2  \n",
       "3        0            373450   8.0500         2  \n",
       "4        0            330877   8.4583         1  \n",
       "..     ...               ...      ...       ...  \n",
       "764      0            211536  13.0000         2  \n",
       "765      0            112053  30.0000         2  \n",
       "766      2        W./C. 6607  23.4500         2  \n",
       "767      0            111369  30.0000         0  \n",
       "768      0            370376   7.7500         1  \n",
       "\n",
       "[769 rows x 11 columns]"
      ]
     },
     "execution_count": 54,
     "metadata": {},
     "output_type": "execute_result"
    }
   ],
   "source": [
    "# handle outliers in the dataset\n",
    "criteria_1 = (zscore(data['Age'])>3) | (zscore(data['Age'])<-3)\n",
    "criteria_2 = (data['Fare']<first_quartile-1.5*iqr) | (data['Fare']>third_quartile+1.5*iqr)\n",
    "data = data[~(criteria_1 | criteria_2)]\n",
    "data.reset_index(drop=True,inplace= True)\n",
    "data"
   ]
  },
  {
   "cell_type": "code",
   "execution_count": 55,
   "metadata": {
    "execution": {
     "iopub.execute_input": "2024-07-20T11:40:57.453484Z",
     "iopub.status.busy": "2024-07-20T11:40:57.453131Z",
     "iopub.status.idle": "2024-07-20T11:40:57.467497Z",
     "shell.execute_reply": "2024-07-20T11:40:57.466190Z",
     "shell.execute_reply.started": "2024-07-20T11:40:57.453454Z"
    }
   },
   "outputs": [
    {
     "name": "stdout",
     "output_type": "stream",
     "text": [
      "there are 0 duplicated rows in dataset\n"
     ]
    }
   ],
   "source": [
    "# Data validation:\n",
    "# Check for duplicate rows in the dataset.\n",
    "# Remove any duplicate rows, if present.\n",
    "\n",
    "if data.duplicated().sum() == 0:\n",
    "    print(f'there are {data.duplicated().sum()} duplicated rows in dataset')\n",
    "else:\n",
    "    print(f'there are {data.duplicated().sum()} duplicated rows in dataset')\n",
    "    data.drop_duplicates()\n",
    "    print(f'after dropping duplicates there are {data.duplicated().sum()} duplicated rows in dataset')"
   ]
  },
  {
   "cell_type": "code",
   "execution_count": 56,
   "metadata": {
    "execution": {
     "iopub.execute_input": "2024-07-20T11:40:57.469176Z",
     "iopub.status.busy": "2024-07-20T11:40:57.468835Z",
     "iopub.status.idle": "2024-07-20T11:40:57.486908Z",
     "shell.execute_reply": "2024-07-20T11:40:57.485712Z",
     "shell.execute_reply.started": "2024-07-20T11:40:57.469141Z"
    }
   },
   "outputs": [
    {
     "data": {
      "text/html": [
       "<div>\n",
       "<style scoped>\n",
       "    .dataframe tbody tr th:only-of-type {\n",
       "        vertical-align: middle;\n",
       "    }\n",
       "\n",
       "    .dataframe tbody tr th {\n",
       "        vertical-align: top;\n",
       "    }\n",
       "\n",
       "    .dataframe thead th {\n",
       "        text-align: right;\n",
       "    }\n",
       "</style>\n",
       "<table border=\"1\" class=\"dataframe\">\n",
       "  <thead>\n",
       "    <tr style=\"text-align: right;\">\n",
       "      <th></th>\n",
       "      <th>Title</th>\n",
       "      <th>FamilySize</th>\n",
       "    </tr>\n",
       "  </thead>\n",
       "  <tbody>\n",
       "    <tr>\n",
       "      <th>0</th>\n",
       "      <td>Mr</td>\n",
       "      <td>1</td>\n",
       "    </tr>\n",
       "    <tr>\n",
       "      <th>1</th>\n",
       "      <td>Miss</td>\n",
       "      <td>0</td>\n",
       "    </tr>\n",
       "    <tr>\n",
       "      <th>2</th>\n",
       "      <td>Mrs</td>\n",
       "      <td>1</td>\n",
       "    </tr>\n",
       "    <tr>\n",
       "      <th>3</th>\n",
       "      <td>Mr</td>\n",
       "      <td>0</td>\n",
       "    </tr>\n",
       "    <tr>\n",
       "      <th>4</th>\n",
       "      <td>Mr</td>\n",
       "      <td>0</td>\n",
       "    </tr>\n",
       "    <tr>\n",
       "      <th>...</th>\n",
       "      <td>...</td>\n",
       "      <td>...</td>\n",
       "    </tr>\n",
       "    <tr>\n",
       "      <th>764</th>\n",
       "      <td>Rev</td>\n",
       "      <td>0</td>\n",
       "    </tr>\n",
       "    <tr>\n",
       "      <th>765</th>\n",
       "      <td>Miss</td>\n",
       "      <td>0</td>\n",
       "    </tr>\n",
       "    <tr>\n",
       "      <th>766</th>\n",
       "      <td>Miss</td>\n",
       "      <td>3</td>\n",
       "    </tr>\n",
       "    <tr>\n",
       "      <th>767</th>\n",
       "      <td>Mr</td>\n",
       "      <td>0</td>\n",
       "    </tr>\n",
       "    <tr>\n",
       "      <th>768</th>\n",
       "      <td>Mr</td>\n",
       "      <td>0</td>\n",
       "    </tr>\n",
       "  </tbody>\n",
       "</table>\n",
       "<p>769 rows × 2 columns</p>\n",
       "</div>"
      ],
      "text/plain": [
       "     Title  FamilySize\n",
       "0       Mr           1\n",
       "1     Miss           0\n",
       "2      Mrs           1\n",
       "3       Mr           0\n",
       "4       Mr           0\n",
       "..     ...         ...\n",
       "764    Rev           0\n",
       "765   Miss           0\n",
       "766   Miss           3\n",
       "767     Mr           0\n",
       "768     Mr           0\n",
       "\n",
       "[769 rows x 2 columns]"
      ]
     },
     "execution_count": 56,
     "metadata": {},
     "output_type": "execute_result"
    }
   ],
   "source": [
    "# Data transformation:\n",
    "# Create a new column called 'FamilySize' by summing the 'SibSp' and 'Parch' columns.\n",
    "# Create a new column called 'Title' by extracting the titles from the 'Name' column.\n",
    "\n",
    "data['FamilySize'] = data['SibSp'] + data['Parch']\n",
    "data['Title'] = data['Name'].apply(lambda name: name.split(',')[1].split('.')[0])\n",
    "data[['Title','FamilySize']]"
   ]
  },
  {
   "cell_type": "code",
   "execution_count": 57,
   "metadata": {
    "execution": {
     "iopub.execute_input": "2024-07-20T11:40:57.488673Z",
     "iopub.status.busy": "2024-07-20T11:40:57.488308Z",
     "iopub.status.idle": "2024-07-20T11:40:57.517353Z",
     "shell.execute_reply": "2024-07-20T11:40:57.516186Z",
     "shell.execute_reply.started": "2024-07-20T11:40:57.488644Z"
    }
   },
   "outputs": [
    {
     "name": "stdout",
     "output_type": "stream",
     "text": [
      "{'Age': StandardScaler(), 'Fare': MinMaxScaler()}\n",
      "Columns after scaling: \n"
     ]
    },
    {
     "data": {
      "text/html": [
       "<div>\n",
       "<style scoped>\n",
       "    .dataframe tbody tr th:only-of-type {\n",
       "        vertical-align: middle;\n",
       "    }\n",
       "\n",
       "    .dataframe tbody tr th {\n",
       "        vertical-align: top;\n",
       "    }\n",
       "\n",
       "    .dataframe thead th {\n",
       "        text-align: right;\n",
       "    }\n",
       "</style>\n",
       "<table border=\"1\" class=\"dataframe\">\n",
       "  <thead>\n",
       "    <tr style=\"text-align: right;\">\n",
       "      <th></th>\n",
       "      <th>Age</th>\n",
       "      <th>Fare</th>\n",
       "    </tr>\n",
       "  </thead>\n",
       "  <tbody>\n",
       "    <tr>\n",
       "      <th>0</th>\n",
       "      <td>-0.553488</td>\n",
       "      <td>0.111538</td>\n",
       "    </tr>\n",
       "    <tr>\n",
       "      <th>1</th>\n",
       "      <td>-0.226142</td>\n",
       "      <td>0.121923</td>\n",
       "    </tr>\n",
       "    <tr>\n",
       "      <th>2</th>\n",
       "      <td>0.510386</td>\n",
       "      <td>0.816923</td>\n",
       "    </tr>\n",
       "    <tr>\n",
       "      <th>3</th>\n",
       "      <td>0.510386</td>\n",
       "      <td>0.123846</td>\n",
       "    </tr>\n",
       "    <tr>\n",
       "      <th>4</th>\n",
       "      <td>0.076581</td>\n",
       "      <td>0.130128</td>\n",
       "    </tr>\n",
       "    <tr>\n",
       "      <th>...</th>\n",
       "      <td>...</td>\n",
       "      <td>...</td>\n",
       "    </tr>\n",
       "    <tr>\n",
       "      <th>764</th>\n",
       "      <td>-0.144305</td>\n",
       "      <td>0.200000</td>\n",
       "    </tr>\n",
       "    <tr>\n",
       "      <th>765</th>\n",
       "      <td>-0.798997</td>\n",
       "      <td>0.461538</td>\n",
       "    </tr>\n",
       "    <tr>\n",
       "      <th>766</th>\n",
       "      <td>0.076581</td>\n",
       "      <td>0.360769</td>\n",
       "    </tr>\n",
       "    <tr>\n",
       "      <th>767</th>\n",
       "      <td>-0.226142</td>\n",
       "      <td>0.461538</td>\n",
       "    </tr>\n",
       "    <tr>\n",
       "      <th>768</th>\n",
       "      <td>0.264877</td>\n",
       "      <td>0.119231</td>\n",
       "    </tr>\n",
       "  </tbody>\n",
       "</table>\n",
       "<p>769 rows × 2 columns</p>\n",
       "</div>"
      ],
      "text/plain": [
       "          Age      Fare\n",
       "0   -0.553488  0.111538\n",
       "1   -0.226142  0.121923\n",
       "2    0.510386  0.816923\n",
       "3    0.510386  0.123846\n",
       "4    0.076581  0.130128\n",
       "..        ...       ...\n",
       "764 -0.144305  0.200000\n",
       "765 -0.798997  0.461538\n",
       "766  0.076581  0.360769\n",
       "767 -0.226142  0.461538\n",
       "768  0.264877  0.119231\n",
       "\n",
       "[769 rows x 2 columns]"
      ]
     },
     "execution_count": 57,
     "metadata": {},
     "output_type": "execute_result"
    }
   ],
   "source": [
    "# Data normalization:\n",
    "# Normalize Data using appropriate scaling techniques (e.g., Min-Max scaling, Standardization).\n",
    "\n",
    "\n",
    "saved_scalers={}\n",
    "\n",
    "\n",
    "scaler_standard = StandardScaler()\n",
    "data['Age'] = scaler_standard.fit_transform(data[['Age']])\n",
    "saved_scalers[data['Age'].name] = scaler_standard\n",
    "\n",
    "scaler_minmax = MinMaxScaler()\n",
    "data['Fare'] = scaler_minmax.fit_transform(data[['Fare']])\n",
    "saved_scalers[data['Fare'].name] = scaler_minmax\n",
    "    \n",
    "print(saved_scalers)\n",
    "print('Columns after scaling: ')\n",
    "data[['Age','Fare']]"
   ]
  },
  {
   "cell_type": "markdown",
   "metadata": {},
   "source": [
    "### The Major Differences between Standardization and Normalization, and When to use these Methods in real-world scenario based problems.\n",
    "\n",
    "Standardization: \n",
    "\n",
    "    This transforms the data to have a mean of 0 and a standard deviation of 1. \n",
    "    Centers the data around the mean, adjusting for the spread. It retains the original distribution shape.\n",
    "    Useful when the data has varying scales and you want to retain the statistical properties\n",
    "    Often used in algorithms that assume normally distributed data \n",
    "    Suitable for algorithms that rely on the mean and standard deviation \n",
    "        \n",
    "Normalization: \n",
    "\n",
    "    This scales the data to a fixed range, typically [0, 1]. \n",
    "    Rescales the data to a specific range, altering the distribution shape based on the range limits.\n",
    "    Useful when you want to bound the feature values to a specific range, which can be critical for algorithms that are sensitive to the range of input data\n",
    "    Effective for distance-based algorithms where the scale of the features matters "
   ]
  },
  {
   "cell_type": "markdown",
   "metadata": {},
   "source": [
    "<!-- Data verification:\n",
    "    \n",
    "Validate the data after cleaning by performing the following checks.\n",
    "1. Verify if there are any missing values remaining in\n",
    "the dataset.\n",
    "\n",
    "2. Verify if there are any outliers remaining in the\n",
    "dataset.\n",
    "\n",
    "3. Verify if the categorical variables have been\n",
    "properly encoded.\n",
    "\n",
    "4.Verify if the data has been properly normalized. -->"
   ]
  },
  {
   "cell_type": "code",
   "execution_count": 58,
   "metadata": {
    "execution": {
     "iopub.execute_input": "2024-07-20T11:40:57.519249Z",
     "iopub.status.busy": "2024-07-20T11:40:57.518894Z",
     "iopub.status.idle": "2024-07-20T11:40:57.530525Z",
     "shell.execute_reply": "2024-07-20T11:40:57.529285Z",
     "shell.execute_reply.started": "2024-07-20T11:40:57.519220Z"
    }
   },
   "outputs": [],
   "source": [
    "# Data verification:\n",
    "\n",
    "# Validate the data after cleaning by performing the following checks.\n",
    "\n",
    "# 1. Verify if there are any missing values remaining in the dataset.\n",
    "\n",
    "# 2. Verify if there are any outliers remaining in the dataset.\n",
    "\n",
    "# 3. Verify if the categorical variables have been properly encoded.\n",
    "\n",
    "# 4.Verify if the data has been properly normalized"
   ]
  },
  {
   "cell_type": "code",
   "execution_count": 59,
   "metadata": {
    "execution": {
     "iopub.execute_input": "2024-07-20T11:40:57.533141Z",
     "iopub.status.busy": "2024-07-20T11:40:57.532678Z",
     "iopub.status.idle": "2024-07-20T11:40:57.546633Z",
     "shell.execute_reply": "2024-07-20T11:40:57.545277Z",
     "shell.execute_reply.started": "2024-07-20T11:40:57.533100Z"
    }
   },
   "outputs": [
    {
     "name": "stdout",
     "output_type": "stream",
     "text": [
      "There are no missing values remaining in the dataset\n"
     ]
    }
   ],
   "source": [
    "# 1. Verify if there are any missing values remaining in the dataset.\n",
    "if data.isnull().sum().sum() == 0:\n",
    "    print('There are no missing values remaining in the dataset')\n",
    "else:\n",
    "    print(f'There are {data.isnull().sum().sum()} missing values in the dataset')"
   ]
  },
  {
   "cell_type": "code",
   "execution_count": 60,
   "metadata": {
    "execution": {
     "iopub.execute_input": "2024-07-20T11:40:57.548352Z",
     "iopub.status.busy": "2024-07-20T11:40:57.547992Z",
     "iopub.status.idle": "2024-07-20T11:40:57.566609Z",
     "shell.execute_reply": "2024-07-20T11:40:57.565307Z",
     "shell.execute_reply.started": "2024-07-20T11:40:57.548323Z"
    }
   },
   "outputs": [
    {
     "name": "stdout",
     "output_type": "stream",
     "text": [
      "there are 1 outliers out of 769 in 'Age' columns using Z-score method\n",
      "\n",
      "\n",
      "there are 25 outliers out of 769 in 'Fare' columns using Z-score method\n"
     ]
    }
   ],
   "source": [
    "# 2. Verify if there are any outliers remaining in the dataset.\n",
    "numerical_col = ['Age']\n",
    "for col in numerical_col:\n",
    "    outlier_count = ((zscore(data[col])>3) | (zscore(data[col])<-3)).sum()\n",
    "    print(f\"there are {outlier_count} outliers out of {data[col].count()} in '{col}' columns using Z-score method\")\n",
    "\n",
    "print('\\n')\n",
    "numerical_col = ['Fare']    \n",
    "for col in numerical_col:\n",
    "    first_quartile = data[col].quantile(0.25)\n",
    "    third_quartile = data[col].quantile(0.75)\n",
    "    iqr = third_quartile - first_quartile\n",
    "    outlier_count = ((data[col]<first_quartile-1.5*iqr) | (data[col]>third_quartile+1.5*iqr)).sum()\n",
    "    print(f\"there are {outlier_count} outliers out of {data[col].count()} in '{col}' columns using Z-score method\") "
   ]
  },
  {
   "cell_type": "code",
   "execution_count": 61,
   "metadata": {
    "execution": {
     "iopub.execute_input": "2024-07-20T11:40:57.568392Z",
     "iopub.status.busy": "2024-07-20T11:40:57.568050Z",
     "iopub.status.idle": "2024-07-20T11:40:57.577017Z",
     "shell.execute_reply": "2024-07-20T11:40:57.575937Z",
     "shell.execute_reply.started": "2024-07-20T11:40:57.568358Z"
    }
   },
   "outputs": [
    {
     "name": "stdout",
     "output_type": "stream",
     "text": [
      "[1 0]\n",
      "[2 1 0]\n"
     ]
    }
   ],
   "source": [
    "# 3. Verify if the categorical variables have been properly encoded.\n",
    "print(data['Sex'].unique())\n",
    "print(data['Embarked'].unique())"
   ]
  },
  {
   "cell_type": "code",
   "execution_count": 92,
   "metadata": {
    "execution": {
     "iopub.execute_input": "2024-07-20T12:19:25.070417Z",
     "iopub.status.busy": "2024-07-20T12:19:25.069996Z",
     "iopub.status.idle": "2024-07-20T12:19:25.081064Z",
     "shell.execute_reply": "2024-07-20T12:19:25.079770Z",
     "shell.execute_reply.started": "2024-07-20T12:19:25.070388Z"
    }
   },
   "outputs": [
    {
     "name": "stdout",
     "output_type": "stream",
     "text": [
      "All Values lies in the range 0 and 1 for Fare column. Hence the data has been properly normalized\n",
      "The data is properly standarised for Age column\n"
     ]
    }
   ],
   "source": [
    "# 4.Verify if the data has been properly normalized\n",
    "if ((data['Fare']>=1) & (data['Fare']<=0)).sum() == 0:\n",
    "    print(f'All Values lies in the range 0 and 1 for {data[\"Fare\"].name} column. Hence the data has been properly normalized')\n",
    "else:\n",
    "    print('the data is not properly normalized')\n",
    "    \n",
    "#If the data is properly standarised:\n",
    "if abs(data['Age'].mean()>1e-6) or abs(data['Age'].std(ddof=0)-1>1e-6):\n",
    "    print(f'The data is not properly properly standarised for {data[\"Age\"].name} column')\n",
    "else:\n",
    "    print(f'The data is properly standarised for {data[\"Age\"].name} column')"
   ]
  }
 ],
 "metadata": {
  "kaggle": {
   "accelerator": "none",
   "dataSources": [
    {
     "datasetId": 5395667,
     "sourceId": 8964102,
     "sourceType": "datasetVersion"
    },
    {
     "datasetId": 5398244,
     "sourceId": 8967436,
     "sourceType": "datasetVersion"
    }
   ],
   "dockerImageVersionId": 30746,
   "isGpuEnabled": false,
   "isInternetEnabled": true,
   "language": "python",
   "sourceType": "notebook"
  },
  "kernelspec": {
   "display_name": "Python 3 (ipykernel)",
   "language": "python",
   "name": "python3"
  },
  "language_info": {
   "codemirror_mode": {
    "name": "ipython",
    "version": 3
   },
   "file_extension": ".py",
   "mimetype": "text/x-python",
   "name": "python",
   "nbconvert_exporter": "python",
   "pygments_lexer": "ipython3",
   "version": "3.12.4"
  }
 },
 "nbformat": 4,
 "nbformat_minor": 4
}
