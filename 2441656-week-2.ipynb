{
 "cells": [
  {
   "cell_type": "markdown",
   "metadata": {
    "_cell_guid": "b1076dfc-b9ad-4769-8c92-a6c4dae69d19",
    "_uuid": "8f2839f25d086af736a60e9eeb907d3b93b6e0e5"
   },
   "source": [
    "## FEATURE ENGINEERING: Binning, Decomposition,Aggregation, Creation of Features"
   ]
  },
  {
   "cell_type": "code",
   "execution_count": 20,
   "metadata": {
    "execution": {
     "iopub.execute_input": "2024-07-30T05:25:25.736948Z",
     "iopub.status.busy": "2024-07-30T05:25:25.736570Z",
     "iopub.status.idle": "2024-07-30T05:25:25.742711Z",
     "shell.execute_reply": "2024-07-30T05:25:25.741480Z",
     "shell.execute_reply.started": "2024-07-30T05:25:25.736919Z"
    }
   },
   "outputs": [],
   "source": [
    "import pandas as pd\n",
    "import numpy as np\n",
    "from sklearn.preprocessing import OneHotEncoder, LabelEncoder, OrdinalEncoder\n",
    "from category_encoders import BinaryEncoder, CountEncoder"
   ]
  },
  {
   "cell_type": "code",
   "execution_count": 21,
   "metadata": {
    "execution": {
     "iopub.execute_input": "2024-07-30T05:25:25.745429Z",
     "iopub.status.busy": "2024-07-30T05:25:25.744713Z",
     "iopub.status.idle": "2024-07-30T05:25:26.008760Z",
     "shell.execute_reply": "2024-07-30T05:25:26.007684Z",
     "shell.execute_reply.started": "2024-07-30T05:25:25.745389Z"
    }
   },
   "outputs": [],
   "source": [
    "df = pd.read_excel('/kaggle/input/train-2441656/train.xlsx')"
   ]
  },
  {
   "cell_type": "markdown",
   "metadata": {},
   "source": [
    "## Tasks"
   ]
  },
  {
   "cell_type": "markdown",
   "metadata": {},
   "source": [
    "Binning of features:\n",
    "\n",
    "Bin the 'Age' column into different age groups (e.g.,child, adult, elderly).\n",
    "\n",
    "Bin the 'Fare' column into different fare ranges (e.g., low, medium, high)."
   ]
  },
  {
   "cell_type": "code",
   "execution_count": 22,
   "metadata": {
    "execution": {
     "iopub.execute_input": "2024-07-30T05:25:26.010852Z",
     "iopub.status.busy": "2024-07-30T05:25:26.010514Z",
     "iopub.status.idle": "2024-07-30T05:25:26.024915Z",
     "shell.execute_reply": "2024-07-30T05:25:26.023767Z",
     "shell.execute_reply.started": "2024-07-30T05:25:26.010823Z"
    }
   },
   "outputs": [
    {
     "name": "stdout",
     "output_type": "stream",
     "text": [
      "0.42\n",
      "80.0\n"
     ]
    },
    {
     "data": {
      "text/plain": [
       "0      adult\n",
       "1      adult\n",
       "2      adult\n",
       "3      adult\n",
       "4      adult\n",
       "       ...  \n",
       "885    adult\n",
       "886    adult\n",
       "887    adult\n",
       "889    adult\n",
       "890    adult\n",
       "Name: Age, Length: 714, dtype: category\n",
       "Categories (3, object): ['child' < 'adult' < 'elderly']"
      ]
     },
     "execution_count": 22,
     "metadata": {},
     "output_type": "execute_result"
    }
   ],
   "source": [
    "# Bin the 'Age' column into different age groups (e.g.,child, adult, elderly).\n",
    "print(df['Age'].min())\n",
    "print(df['Age'].max())\n",
    "bins = [0,17,59,80]\n",
    "labels = ['child', 'adult','elderly']\n",
    "pd.cut(df['Age'], bins=bins, labels = labels).dropna()"
   ]
  },
  {
   "cell_type": "code",
   "execution_count": 23,
   "metadata": {
    "execution": {
     "iopub.execute_input": "2024-07-30T05:25:26.026458Z",
     "iopub.status.busy": "2024-07-30T05:25:26.026098Z",
     "iopub.status.idle": "2024-07-30T05:25:26.047469Z",
     "shell.execute_reply": "2024-07-30T05:25:26.046436Z",
     "shell.execute_reply.started": "2024-07-30T05:25:26.026431Z"
    }
   },
   "outputs": [
    {
     "name": "stdout",
     "output_type": "stream",
     "text": [
      "0.0\n",
      "512.3292\n"
     ]
    },
    {
     "data": {
      "text/plain": [
       "0         Low\n",
       "1        High\n",
       "2      Medium\n",
       "3        High\n",
       "4      Medium\n",
       "        ...  \n",
       "886    Medium\n",
       "887    Medium\n",
       "888    Medium\n",
       "889    Medium\n",
       "890       Low\n",
       "Name: Fare, Length: 876, dtype: category\n",
       "Categories (3, object): ['Low' < 'Medium' < 'High']"
      ]
     },
     "execution_count": 23,
     "metadata": {},
     "output_type": "execute_result"
    }
   ],
   "source": [
    "# Bin the 'Fare' column into different fare ranges (e.g., low, medium, high).\n",
    "print(df['Fare'].min())\n",
    "print(df['Fare'].max())\n",
    "bins = [0]+list(df['Fare'].quantile([0.25,0.75]).values)+[df['Fare'].max()]\n",
    "labels = ['Low', 'Medium','High']\n",
    "pd.cut(df['Fare'], bins=bins, labels = labels).dropna()"
   ]
  },
  {
   "cell_type": "code",
   "execution_count": null,
   "metadata": {},
   "outputs": [],
   "source": []
  },
  {
   "cell_type": "markdown",
   "metadata": {},
   "source": [
    "Aggregation of features:\n",
    "\n",
    "Group the dataset by 'Pclass' and calculate the average 'Age' and 'Fare' for each class.\n",
    "\n",
    "Group the dataset by 'Sex' and calculate the total number of passengers and the average 'Age' for each gender."
   ]
  },
  {
   "cell_type": "code",
   "execution_count": 24,
   "metadata": {
    "execution": {
     "iopub.execute_input": "2024-07-30T05:25:26.050986Z",
     "iopub.status.busy": "2024-07-30T05:25:26.050569Z",
     "iopub.status.idle": "2024-07-30T05:25:26.062208Z",
     "shell.execute_reply": "2024-07-30T05:25:26.061066Z",
     "shell.execute_reply.started": "2024-07-30T05:25:26.050949Z"
    }
   },
   "outputs": [
    {
     "name": "stdout",
     "output_type": "stream",
     "text": [
      "Average age by Pclass:\n",
      "Pclass\n",
      "1    38.233441\n",
      "2    29.877630\n",
      "3    25.140620\n",
      "Name: Age, dtype: float64\n",
      "\n",
      "\n",
      "Average fare by Pclass:\n",
      "Pclass\n",
      "1    84.154687\n",
      "2    20.662183\n",
      "3    13.675550\n",
      "Name: Fare, dtype: float64\n"
     ]
    }
   ],
   "source": [
    "# Group the dataset by 'Pclass' and calculate the average 'Age' and 'Fare' for each class.\n",
    "print('Average age by Pclass:')\n",
    "print(df.groupby('Pclass')['Age'].mean())\n",
    "print('\\n')\n",
    "print('Average fare by Pclass:')\n",
    "print(df.groupby('Pclass')['Fare'].mean())"
   ]
  },
  {
   "cell_type": "code",
   "execution_count": null,
   "metadata": {},
   "outputs": [],
   "source": []
  },
  {
   "cell_type": "markdown",
   "metadata": {},
   "source": [
    "Decomposing of features:\n",
    "    \n",
    "Decompose the 'Name' column into two new columns: 'Title' (extracted from the name prefix) and 'LastName' (extracted from the last name)."
   ]
  },
  {
   "cell_type": "code",
   "execution_count": 25,
   "metadata": {
    "execution": {
     "iopub.execute_input": "2024-07-30T05:25:26.064143Z",
     "iopub.status.busy": "2024-07-30T05:25:26.063643Z",
     "iopub.status.idle": "2024-07-30T05:25:26.088021Z",
     "shell.execute_reply": "2024-07-30T05:25:26.086485Z",
     "shell.execute_reply.started": "2024-07-30T05:25:26.064081Z"
    }
   },
   "outputs": [
    {
     "data": {
      "text/html": [
       "<div>\n",
       "<style scoped>\n",
       "    .dataframe tbody tr th:only-of-type {\n",
       "        vertical-align: middle;\n",
       "    }\n",
       "\n",
       "    .dataframe tbody tr th {\n",
       "        vertical-align: top;\n",
       "    }\n",
       "\n",
       "    .dataframe thead th {\n",
       "        text-align: right;\n",
       "    }\n",
       "</style>\n",
       "<table border=\"1\" class=\"dataframe\">\n",
       "  <thead>\n",
       "    <tr style=\"text-align: right;\">\n",
       "      <th></th>\n",
       "      <th>Name</th>\n",
       "      <th>Title</th>\n",
       "      <th>Last Name</th>\n",
       "    </tr>\n",
       "  </thead>\n",
       "  <tbody>\n",
       "    <tr>\n",
       "      <th>0</th>\n",
       "      <td>Braund, Mr. Owen Harris</td>\n",
       "      <td>Mr</td>\n",
       "      <td>Braund</td>\n",
       "    </tr>\n",
       "    <tr>\n",
       "      <th>1</th>\n",
       "      <td>Cumings, Mrs. John Bradley (Florence Briggs Th...</td>\n",
       "      <td>Mrs</td>\n",
       "      <td>Cumings</td>\n",
       "    </tr>\n",
       "    <tr>\n",
       "      <th>2</th>\n",
       "      <td>Heikkinen, Miss. Laina</td>\n",
       "      <td>Miss</td>\n",
       "      <td>Heikkinen</td>\n",
       "    </tr>\n",
       "    <tr>\n",
       "      <th>3</th>\n",
       "      <td>Futrelle, Mrs. Jacques Heath (Lily May Peel)</td>\n",
       "      <td>Mrs</td>\n",
       "      <td>Futrelle</td>\n",
       "    </tr>\n",
       "    <tr>\n",
       "      <th>4</th>\n",
       "      <td>Allen, Mr. William Henry</td>\n",
       "      <td>Mr</td>\n",
       "      <td>Allen</td>\n",
       "    </tr>\n",
       "    <tr>\n",
       "      <th>...</th>\n",
       "      <td>...</td>\n",
       "      <td>...</td>\n",
       "      <td>...</td>\n",
       "    </tr>\n",
       "    <tr>\n",
       "      <th>886</th>\n",
       "      <td>Montvila, Rev. Juozas</td>\n",
       "      <td>Rev</td>\n",
       "      <td>Montvila</td>\n",
       "    </tr>\n",
       "    <tr>\n",
       "      <th>887</th>\n",
       "      <td>Graham, Miss. Margaret Edith</td>\n",
       "      <td>Miss</td>\n",
       "      <td>Graham</td>\n",
       "    </tr>\n",
       "    <tr>\n",
       "      <th>888</th>\n",
       "      <td>Johnston, Miss. Catherine Helen \"Carrie\"</td>\n",
       "      <td>Miss</td>\n",
       "      <td>Johnston</td>\n",
       "    </tr>\n",
       "    <tr>\n",
       "      <th>889</th>\n",
       "      <td>Behr, Mr. Karl Howell</td>\n",
       "      <td>Mr</td>\n",
       "      <td>Behr</td>\n",
       "    </tr>\n",
       "    <tr>\n",
       "      <th>890</th>\n",
       "      <td>Dooley, Mr. Patrick</td>\n",
       "      <td>Mr</td>\n",
       "      <td>Dooley</td>\n",
       "    </tr>\n",
       "  </tbody>\n",
       "</table>\n",
       "<p>891 rows × 3 columns</p>\n",
       "</div>"
      ],
      "text/plain": [
       "                                                  Name  Title  Last Name\n",
       "0                              Braund, Mr. Owen Harris     Mr     Braund\n",
       "1    Cumings, Mrs. John Bradley (Florence Briggs Th...    Mrs    Cumings\n",
       "2                               Heikkinen, Miss. Laina   Miss  Heikkinen\n",
       "3         Futrelle, Mrs. Jacques Heath (Lily May Peel)    Mrs   Futrelle\n",
       "4                             Allen, Mr. William Henry     Mr      Allen\n",
       "..                                                 ...    ...        ...\n",
       "886                              Montvila, Rev. Juozas    Rev   Montvila\n",
       "887                       Graham, Miss. Margaret Edith   Miss     Graham\n",
       "888           Johnston, Miss. Catherine Helen \"Carrie\"   Miss   Johnston\n",
       "889                              Behr, Mr. Karl Howell     Mr       Behr\n",
       "890                                Dooley, Mr. Patrick     Mr     Dooley\n",
       "\n",
       "[891 rows x 3 columns]"
      ]
     },
     "execution_count": 25,
     "metadata": {},
     "output_type": "execute_result"
    }
   ],
   "source": [
    "df['Title'] = df['Name'].apply(lambda name : name.split('.')[0].split(',')[1])\n",
    "df['Last Name'] = df['Name'].apply(lambda name : name.split('.')[0].split(',')[0])\n",
    "df[['Name','Title','Last Name']].dropna()"
   ]
  },
  {
   "cell_type": "code",
   "execution_count": null,
   "metadata": {},
   "outputs": [],
   "source": []
  },
  {
   "cell_type": "markdown",
   "metadata": {},
   "source": [
    "Feature creation:\n",
    "    \n",
    "Create a new feature called 'FamilySize' by summing the 'SibSp' and 'Parch' columns\n",
    "\n",
    "Create a new feature called 'IsAlone' to indicate whether a passenger is traveling alone or with family.\n"
   ]
  },
  {
   "cell_type": "code",
   "execution_count": 26,
   "metadata": {
    "execution": {
     "iopub.execute_input": "2024-07-30T05:25:26.089908Z",
     "iopub.status.busy": "2024-07-30T05:25:26.089481Z",
     "iopub.status.idle": "2024-07-30T05:25:26.109063Z",
     "shell.execute_reply": "2024-07-30T05:25:26.107815Z",
     "shell.execute_reply.started": "2024-07-30T05:25:26.089869Z"
    }
   },
   "outputs": [
    {
     "data": {
      "text/html": [
       "<div>\n",
       "<style scoped>\n",
       "    .dataframe tbody tr th:only-of-type {\n",
       "        vertical-align: middle;\n",
       "    }\n",
       "\n",
       "    .dataframe tbody tr th {\n",
       "        vertical-align: top;\n",
       "    }\n",
       "\n",
       "    .dataframe thead th {\n",
       "        text-align: right;\n",
       "    }\n",
       "</style>\n",
       "<table border=\"1\" class=\"dataframe\">\n",
       "  <thead>\n",
       "    <tr style=\"text-align: right;\">\n",
       "      <th></th>\n",
       "      <th>Name</th>\n",
       "      <th>SibSp</th>\n",
       "      <th>Parch</th>\n",
       "      <th>FamilySize</th>\n",
       "      <th>IsAlone</th>\n",
       "    </tr>\n",
       "  </thead>\n",
       "  <tbody>\n",
       "    <tr>\n",
       "      <th>0</th>\n",
       "      <td>Braund, Mr. Owen Harris</td>\n",
       "      <td>1</td>\n",
       "      <td>0</td>\n",
       "      <td>1</td>\n",
       "      <td>No</td>\n",
       "    </tr>\n",
       "    <tr>\n",
       "      <th>1</th>\n",
       "      <td>Cumings, Mrs. John Bradley (Florence Briggs Th...</td>\n",
       "      <td>1</td>\n",
       "      <td>0</td>\n",
       "      <td>1</td>\n",
       "      <td>No</td>\n",
       "    </tr>\n",
       "    <tr>\n",
       "      <th>2</th>\n",
       "      <td>Heikkinen, Miss. Laina</td>\n",
       "      <td>0</td>\n",
       "      <td>0</td>\n",
       "      <td>0</td>\n",
       "      <td>Yes</td>\n",
       "    </tr>\n",
       "    <tr>\n",
       "      <th>3</th>\n",
       "      <td>Futrelle, Mrs. Jacques Heath (Lily May Peel)</td>\n",
       "      <td>1</td>\n",
       "      <td>0</td>\n",
       "      <td>1</td>\n",
       "      <td>No</td>\n",
       "    </tr>\n",
       "    <tr>\n",
       "      <th>4</th>\n",
       "      <td>Allen, Mr. William Henry</td>\n",
       "      <td>0</td>\n",
       "      <td>0</td>\n",
       "      <td>0</td>\n",
       "      <td>Yes</td>\n",
       "    </tr>\n",
       "    <tr>\n",
       "      <th>...</th>\n",
       "      <td>...</td>\n",
       "      <td>...</td>\n",
       "      <td>...</td>\n",
       "      <td>...</td>\n",
       "      <td>...</td>\n",
       "    </tr>\n",
       "    <tr>\n",
       "      <th>886</th>\n",
       "      <td>Montvila, Rev. Juozas</td>\n",
       "      <td>0</td>\n",
       "      <td>0</td>\n",
       "      <td>0</td>\n",
       "      <td>Yes</td>\n",
       "    </tr>\n",
       "    <tr>\n",
       "      <th>887</th>\n",
       "      <td>Graham, Miss. Margaret Edith</td>\n",
       "      <td>0</td>\n",
       "      <td>0</td>\n",
       "      <td>0</td>\n",
       "      <td>Yes</td>\n",
       "    </tr>\n",
       "    <tr>\n",
       "      <th>888</th>\n",
       "      <td>Johnston, Miss. Catherine Helen \"Carrie\"</td>\n",
       "      <td>1</td>\n",
       "      <td>2</td>\n",
       "      <td>3</td>\n",
       "      <td>No</td>\n",
       "    </tr>\n",
       "    <tr>\n",
       "      <th>889</th>\n",
       "      <td>Behr, Mr. Karl Howell</td>\n",
       "      <td>0</td>\n",
       "      <td>0</td>\n",
       "      <td>0</td>\n",
       "      <td>Yes</td>\n",
       "    </tr>\n",
       "    <tr>\n",
       "      <th>890</th>\n",
       "      <td>Dooley, Mr. Patrick</td>\n",
       "      <td>0</td>\n",
       "      <td>0</td>\n",
       "      <td>0</td>\n",
       "      <td>Yes</td>\n",
       "    </tr>\n",
       "  </tbody>\n",
       "</table>\n",
       "<p>891 rows × 5 columns</p>\n",
       "</div>"
      ],
      "text/plain": [
       "                                                  Name  SibSp  Parch  \\\n",
       "0                              Braund, Mr. Owen Harris      1      0   \n",
       "1    Cumings, Mrs. John Bradley (Florence Briggs Th...      1      0   \n",
       "2                               Heikkinen, Miss. Laina      0      0   \n",
       "3         Futrelle, Mrs. Jacques Heath (Lily May Peel)      1      0   \n",
       "4                             Allen, Mr. William Henry      0      0   \n",
       "..                                                 ...    ...    ...   \n",
       "886                              Montvila, Rev. Juozas      0      0   \n",
       "887                       Graham, Miss. Margaret Edith      0      0   \n",
       "888           Johnston, Miss. Catherine Helen \"Carrie\"      1      2   \n",
       "889                              Behr, Mr. Karl Howell      0      0   \n",
       "890                                Dooley, Mr. Patrick      0      0   \n",
       "\n",
       "     FamilySize IsAlone  \n",
       "0             1      No  \n",
       "1             1      No  \n",
       "2             0     Yes  \n",
       "3             1      No  \n",
       "4             0     Yes  \n",
       "..          ...     ...  \n",
       "886           0     Yes  \n",
       "887           0     Yes  \n",
       "888           3      No  \n",
       "889           0     Yes  \n",
       "890           0     Yes  \n",
       "\n",
       "[891 rows x 5 columns]"
      ]
     },
     "execution_count": 26,
     "metadata": {},
     "output_type": "execute_result"
    }
   ],
   "source": [
    "df['FamilySize'] = df['SibSp']+df['Parch']\n",
    "df['IsAlone'] = df['FamilySize'].apply(lambda size: 'No' if size >= 1 else 'Yes')\n",
    "df[['Name','SibSp','Parch','FamilySize','IsAlone']]"
   ]
  },
  {
   "cell_type": "code",
   "execution_count": null,
   "metadata": {},
   "outputs": [],
   "source": []
  },
  {
   "cell_type": "markdown",
   "metadata": {},
   "source": [
    "Feature transformation:\n",
    "    \n",
    "Encode categorical features (e.g., 'Sex', 'Embarked') using appropriate techniques (e.g., one-hot encoding, label encoding).\n",
    "Mention the Top 5 Categorical Encoding Techniques and also list out the Major differences between them with the most suitable scenarios where we can use them."
   ]
  },
  {
   "cell_type": "code",
   "execution_count": 27,
   "metadata": {
    "execution": {
     "iopub.execute_input": "2024-07-30T05:25:26.110642Z",
     "iopub.status.busy": "2024-07-30T05:25:26.110283Z",
     "iopub.status.idle": "2024-07-30T05:25:26.117969Z",
     "shell.execute_reply": "2024-07-30T05:25:26.116924Z",
     "shell.execute_reply.started": "2024-07-30T05:25:26.110605Z"
    }
   },
   "outputs": [],
   "source": [
    "saved_econders={}"
   ]
  },
  {
   "cell_type": "code",
   "execution_count": 28,
   "metadata": {
    "execution": {
     "iopub.execute_input": "2024-07-30T05:25:26.119670Z",
     "iopub.status.busy": "2024-07-30T05:25:26.119362Z",
     "iopub.status.idle": "2024-07-30T05:25:26.192609Z",
     "shell.execute_reply": "2024-07-30T05:25:26.191562Z",
     "shell.execute_reply.started": "2024-07-30T05:25:26.119643Z"
    }
   },
   "outputs": [
    {
     "data": {
      "text/plain": [
       "{'OneHotEncoder_Sex_Embarked': OneHotEncoder(sparse_output=False),\n",
       " 'OrdinalEncoder_Sex_Embarked': OrdinalEncoder(categories=[['female', 'male'], ['C', 'Q', 'S']]),\n",
       " 'BinaryEncoder_Sex_Embarked': BinaryEncoder(cols=Index(['Sex', 'Embarked'], dtype='object'),\n",
       "               mapping=[{'col': 'Sex',\n",
       "                         'mapping':     Sex_0  Sex_1\n",
       "  1      0      1\n",
       "  2      1      0\n",
       " -1      0      0\n",
       " -2      0      0},\n",
       "                        {'col': 'Embarked',\n",
       "                         'mapping':     Embarked_0  Embarked_1\n",
       "  1           0           1\n",
       "  2           1           0\n",
       "  3           1           1\n",
       " -1           0           0\n",
       " -2           0           0}]),\n",
       " 'CountEncoder_Sex_Embarked': CountEncoder(cols=Index(['Sex', 'Embarked'], dtype='object'),\n",
       "              combine_min_nan_groups=True)}"
      ]
     },
     "execution_count": 28,
     "metadata": {},
     "output_type": "execute_result"
    }
   ],
   "source": [
    "saved_econders={}\n",
    "df.dropna(subset=['Sex', 'Embarked'],inplace=True)\n",
    "features = df[['Sex', 'Embarked']]\n",
    "\n",
    "def OneHotEncoderFunction(features_to_encode): \n",
    "    encoder = OneHotEncoder(sparse_output=False)\n",
    "    encoder.fit(features_to_encode)\n",
    "    saved_econders['OneHotEncoder_'+'_'.join(features_to_encode.columns)] = encoder\n",
    "\n",
    "def LabelEncoderFunction(features_to_encode):\n",
    "    list_encoder = []\n",
    "    for col in features_to_encode.columns:\n",
    "        encoder = LabelEncoder()\n",
    "        encoder.fit(features_to_encode[col])\n",
    "        saved_econders['LabelEncoder_'+ str(col)] = encoder\n",
    "\n",
    "def OrdinalEncoderFunction(features_to_encode):\n",
    "    categories = []\n",
    "    for col in features_to_encode.columns:\n",
    "        categories.append(sorted(list(features_to_encode[col].unique())))\n",
    "    encoder = OrdinalEncoder(categories=categories)\n",
    "    encoder.fit(features_to_encode)\n",
    "    saved_econders['OrdinalEncoder_'+'_'.join(features_to_encode.columns)] = encoder\n",
    "\n",
    "def BinaryEncoderFunction(features_to_encode):\n",
    "    encoder = BinaryEncoder(cols=features_to_encode.columns)\n",
    "    encoder.fit(features_to_encode)\n",
    "    saved_econders['BinaryEncoder_'+'_'.join(features_to_encode.columns)] = encoder\n",
    "\n",
    "def CountEncoderFunction(features_to_encode):\n",
    "    encoder = CountEncoder(cols=features_to_encode.columns)\n",
    "    encoder.fit(features_to_encode)\n",
    "    saved_econders['CountEncoder_'+'_'.join(features_to_encode.columns)] = encoder\n",
    "\n",
    "encoder_functions = [OneHotEncoderFunction,OrdinalEncoderFunction,BinaryEncoderFunction,CountEncoderFunction]\n",
    "\n",
    "for fun in encoder_functions:\n",
    "    fun(features)\n",
    "\n",
    "saved_econders"
   ]
  },
  {
   "cell_type": "code",
   "execution_count": 29,
   "metadata": {
    "execution": {
     "iopub.execute_input": "2024-07-30T05:25:26.194476Z",
     "iopub.status.busy": "2024-07-30T05:25:26.194047Z",
     "iopub.status.idle": "2024-07-30T05:25:26.233374Z",
     "shell.execute_reply": "2024-07-30T05:25:26.232172Z",
     "shell.execute_reply.started": "2024-07-30T05:25:26.194445Z"
    }
   },
   "outputs": [
    {
     "name": "stdout",
     "output_type": "stream",
     "text": [
      "\n",
      "OneHotEncoder_Sex_Embarked:\n",
      "      Sex_female  Sex_male  Embarked_C  Embarked_Q  Embarked_S\n",
      "0           0.0       1.0         0.0         0.0         1.0\n",
      "1           1.0       0.0         1.0         0.0         0.0\n",
      "2           1.0       0.0         0.0         0.0         1.0\n",
      "3           1.0       0.0         0.0         0.0         1.0\n",
      "4           0.0       1.0         0.0         0.0         1.0\n",
      "..          ...       ...         ...         ...         ...\n",
      "884         0.0       1.0         0.0         0.0         1.0\n",
      "885         1.0       0.0         0.0         0.0         1.0\n",
      "886         1.0       0.0         0.0         0.0         1.0\n",
      "887         0.0       1.0         1.0         0.0         0.0\n",
      "888         0.0       1.0         0.0         1.0         0.0\n",
      "\n",
      "[889 rows x 5 columns]\n",
      "\n",
      "OrdinalEncoder_Sex_Embarked:\n",
      "      Sex_ordinal  Embarked_ordinal\n",
      "0            1.0               2.0\n",
      "1            0.0               0.0\n",
      "2            0.0               2.0\n",
      "3            0.0               2.0\n",
      "4            1.0               2.0\n",
      "..           ...               ...\n",
      "884          1.0               2.0\n",
      "885          0.0               2.0\n",
      "886          0.0               2.0\n",
      "887          1.0               0.0\n",
      "888          1.0               1.0\n",
      "\n",
      "[889 rows x 2 columns]\n",
      "\n",
      "BinaryEncoder_Sex_Embarked:\n",
      "      Sex_0  Sex_1  Embarked_0  Embarked_1\n",
      "0        0      1           0           1\n",
      "1        1      0           1           0\n",
      "2        1      0           0           1\n",
      "3        1      0           0           1\n",
      "4        0      1           0           1\n",
      "..     ...    ...         ...         ...\n",
      "886      0      1           0           1\n",
      "887      1      0           0           1\n",
      "888      1      0           0           1\n",
      "889      0      1           1           0\n",
      "890      0      1           1           1\n",
      "\n",
      "[889 rows x 4 columns]\n",
      "\n",
      "CountEncoder_Sex_Embarked:\n",
      "      Sex  Embarked\n",
      "0    577       644\n",
      "1    312       168\n",
      "2    312       644\n",
      "3    312       644\n",
      "4    577       644\n",
      "..   ...       ...\n",
      "886  577       644\n",
      "887  312       644\n",
      "888  312       644\n",
      "889  577       168\n",
      "890  577        77\n",
      "\n",
      "[889 rows x 2 columns]\n"
     ]
    }
   ],
   "source": [
    "encoded_dfs = {}\n",
    "\n",
    "for encoder_name, encoder in saved_econders.items():\n",
    "    if 'OneHotEncoder' in encoder_name:\n",
    "        transformed_data = encoder.transform(features)\n",
    "        columns = encoder.get_feature_names_out(features.columns)\n",
    "        encoded_df = pd.DataFrame(transformed_data, columns=columns)\n",
    "        \n",
    "    elif 'LabelEncoder' in encoder_name:\n",
    "        column = encoder_name.split('_')[-1]\n",
    "        transformed_data = encoder.transform(features[column])\n",
    "        encoded_df = pd.DataFrame(transformed_data, columns=[column + '_encoded'])\n",
    "\n",
    "    elif 'OrdinalEncoder' in encoder_name:\n",
    "        transformed_data = encoder.transform(features)\n",
    "        columns = features.columns + '_ordinal'\n",
    "        encoded_df = pd.DataFrame(transformed_data, columns=columns)\n",
    "\n",
    "    elif 'BinaryEncoder' in encoder_name:\n",
    "        transformed_data = encoder.transform(features)\n",
    "        columns = transformed_data.columns\n",
    "        encoded_df = pd.DataFrame(transformed_data, columns=columns)\n",
    "\n",
    "    elif 'CountEncoder' in encoder_name:\n",
    "        transformed_data = encoder.transform(features)\n",
    "        columns = transformed_data.columns\n",
    "        encoded_df = pd.DataFrame(transformed_data, columns=columns)\n",
    "\n",
    "    # Storing the DataFrame in a dictionary for later use\n",
    "    encoded_dfs[encoder_name] = encoded_df\n",
    "\n",
    "# Displaying the DataFrames\n",
    "for encoder_name, df in encoded_dfs.items():\n",
    "    print(f\"\\n{encoder_name}:\\n\", df)"
   ]
  },
  {
   "cell_type": "markdown",
   "metadata": {
    "execution": {
     "iopub.execute_input": "2024-07-30T05:30:25.785897Z",
     "iopub.status.busy": "2024-07-30T05:30:25.785447Z",
     "iopub.status.idle": "2024-07-30T05:30:25.792889Z",
     "shell.execute_reply": "2024-07-30T05:30:25.791521Z",
     "shell.execute_reply.started": "2024-07-30T05:30:25.785859Z"
    }
   },
   "source": [
    "### Mention the Top 5 Categorical Encoding\n",
    "\n",
    "1. 'OneHotEncoder' \n",
    "2. 'LabelEncoder' \n",
    "3. 'OrdinalEncoder' \n",
    "4. 'BinaryEncoder' \n",
    "5. 'CountEncoder'\n",
    "\n",
    "Major differences between them with the most suitable scenarios where we can use them.\n",
    "\n",
    "1. 'OneHotEncoder' \n",
    "Converts each unique category level into a separate binary column (0/1).\n",
    "Prevents assumptions about ordinal relationships.Provides a complete representation of categories.\n",
    "Can increase dimensionality significantly with many unique categories, leading to sparse matrices.\n",
    "\n",
    "    suitable scenarios\n",
    "Suitable for algorithms that don't assume order among categories (e.g., linear regression, neural networks)\n",
    "Nominal data without an inherent order (e.g., colors, gender).\n",
    "\n",
    "2. 'LabelEncoder' \n",
    "Encodes categories as integers from 0 to n-1.\n",
    "Assumes ordinal relationship between categories, which may not be suitable for nominal data\n",
    "Simple and efficient. Maintains order for ordinal data.\n",
    "     \n",
    "    suitable scenarios\n",
    "Ordinal data where categories have a clear order.\n",
    "Suitable for algorithms that can handle numerical values directly (e.g., decision trees, random forests).\n",
    "\n",
    "3. 'OrdinalEncoder' \n",
    "Encodes categories as integers based on a specified order.\n",
    "Maintains specified order for ordinal data.Suitable for models needing ordinal information.\n",
    "Assumes ordinal relationship, which may not apply to all datasets. Requires specifying category order.\n",
    "\n",
    "    suitable scenarios\n",
    "Ordinal data where categories have a clear hierarchy or ranking (e.g., education levels, satisfaction ratings).\n",
    "\n",
    "4. 'BinaryEncoder'\n",
    "Encodes categories into binary digits, reducing the number of columns compared to OneHotEncoder.\n",
    "Reduces dimensionality compared to OneHotEncoder.Less sparse than OneHotEncoder for high-cardinality data.\n",
    "More complex to interpret compared to OneHotEncoder. Assumes no inherent order among categories.\n",
    "    \n",
    "    suitable scenarios\n",
    "Nominal data with many categories, reducing dimensionality while preserving information. Suitable for large datasets where OneHotEncoding would be too sparse.\n",
    "\n",
    "5. 'CountEncoder'\n",
    "Replaces categories with their corresponding frequency counts.\n",
    "Reduces dimensionality. Captures information about category frequency.\n",
    "May lose some categorical information.<br>- Assumes categories with higher frequency are more important.\n",
    "\n",
    "    suitable scenarios\n",
    "High-cardinality categorical data. Suitable for tree-based algorithms that handle numerical features well (e.g., decision trees, random forests).\n"
   ]
  },
  {
   "cell_type": "code",
   "execution_count": null,
   "metadata": {},
   "outputs": [],
   "source": []
  }
 ],
 "metadata": {
  "kaggle": {
   "accelerator": "none",
   "dataSources": [
    {
     "datasetId": 5442948,
     "sourceId": 9030567,
     "sourceType": "datasetVersion"
    },
    {
     "datasetId": 5444268,
     "sourceId": 9032349,
     "sourceType": "datasetVersion"
    }
   ],
   "dockerImageVersionId": 30746,
   "isGpuEnabled": false,
   "isInternetEnabled": true,
   "language": "python",
   "sourceType": "notebook"
  },
  "kernelspec": {
   "display_name": "Python 3 (ipykernel)",
   "language": "python",
   "name": "python3"
  },
  "language_info": {
   "codemirror_mode": {
    "name": "ipython",
    "version": 3
   },
   "file_extension": ".py",
   "mimetype": "text/x-python",
   "name": "python",
   "nbconvert_exporter": "python",
   "pygments_lexer": "ipython3",
   "version": "3.12.4"
  }
 },
 "nbformat": 4,
 "nbformat_minor": 4
}
